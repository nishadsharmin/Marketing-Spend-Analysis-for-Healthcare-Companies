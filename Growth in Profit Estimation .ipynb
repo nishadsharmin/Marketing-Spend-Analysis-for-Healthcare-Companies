{
 "cells": [
  {
   "cell_type": "code",
   "execution_count": 1,
   "metadata": {},
   "outputs": [],
   "source": [
    "import pandas as pd\n",
    "import numpy as np\n",
    "from datetime import datetime\n",
    "import matplotlib.pyplot as plt\n",
    "import statsmodels as stats\n",
    "import seaborn as seabornInstance \n",
    "from sklearn.model_selection import train_test_split \n",
    "from sklearn.linear_model import LinearRegression\n",
    "from sklearn import metrics\n",
    "%matplotlib inline\n",
    "import seaborn as sns"
   ]
  },
  {
   "cell_type": "code",
   "execution_count": 2,
   "metadata": {},
   "outputs": [],
   "source": [
    "data = pd.read_excel(\"Downloads/Final_RA_data.xlsx\")"
   ]
  },
  {
   "cell_type": "markdown",
   "metadata": {},
   "source": [
    "### Estimating Growth in Profit with and without Imputation. So I have created the following two DataFrames.\n",
    "#### df -> dataframe with all missing values removed\n",
    "#### df_imp ->dataframe with missing values imputed"
   ]
  },
  {
   "cell_type": "markdown",
   "metadata": {},
   "source": [
    "### Creating df by deleting all rows with missing values"
   ]
  },
  {
   "cell_type": "code",
   "execution_count": 3,
   "metadata": {},
   "outputs": [
    {
     "name": "stdout",
     "output_type": "stream",
     "text": [
      "Original Shape of Data: (3158, 11)\n",
      "Shape of Data after removing Missing values: (1328, 11)\n"
     ]
    },
    {
     "name": "stderr",
     "output_type": "stream",
     "text": [
      "C:\\Users\\nisha\\Anaconda3\\lib\\site-packages\\ipykernel_launcher.py:3: SettingWithCopyWarning: \n",
      "A value is trying to be set on a copy of a slice from a DataFrame\n",
      "\n",
      "See the caveats in the documentation: http://pandas.pydata.org/pandas-docs/stable/indexing.html#indexing-view-versus-copy\n",
      "  This is separate from the ipykernel package so we can avoid doing imports until\n"
     ]
    }
   ],
   "source": [
    "df=data[['Companies','sgna','fyear','current_assets','age', 'ppe', 'emp', 'operating_expenses','liabilities', 'book_value','gross_profit']]\n",
    "print(\"Original Shape of Data:\", df.shape)\n",
    "df.dropna(inplace=True)\n",
    "print(\"Shape of Data after removing Missing values:\", df.shape)"
   ]
  },
  {
   "cell_type": "markdown",
   "metadata": {},
   "source": [
    "### Creating df_imp by imputing missing values using the following technique-\n",
    "#### Values for each colum are Linearly interpolating  at Company level\n",
    "#### Some missing values still remain because linear interpolation does not work when entire column is NaN. So, the remaining missing values are replaced with the Column Mean*. \n",
    "\n",
    "#### NOTE- The Column Mean is calculated taking the entire column into account and not at Company level."
   ]
  },
  {
   "cell_type": "code",
   "execution_count": 4,
   "metadata": {},
   "outputs": [
    {
     "name": "stdout",
     "output_type": "stream",
     "text": [
      "Missing values in each column\n",
      "Companies                0\n",
      "sgna                  1011\n",
      "fyear                    0\n",
      "current_assets         305\n",
      "age                      1\n",
      "ppe                    835\n",
      "emp                   1153\n",
      "operating_expenses     369\n",
      "liabilities            656\n",
      "book_value            1022\n",
      "gross_profit           463\n",
      "dtype: int64\n",
      "--------------------------------------------------\n",
      "Missing values left out after Linear Interpolation\n",
      "sgna                  584\n",
      "fyear                   0\n",
      "current_assets         73\n",
      "age                     0\n",
      "ppe                   638\n",
      "emp                   782\n",
      "operating_expenses    207\n",
      "liabilities           570\n",
      "book_value            874\n",
      "gross_profit          297\n",
      "Companies               0\n",
      "dtype: int64\n"
     ]
    }
   ],
   "source": [
    "df_imp = pd.DataFrame()\n",
    "df_imp = data[['Companies','sgna','fyear','current_assets','age', 'ppe', 'emp', 'operating_expenses','liabilities', 'book_value','gross_profit']]\n",
    "print(\"Missing values in each column\")\n",
    "print(df_imp.isnull().sum())\n",
    "\n",
    "\n",
    "df_imp = df_imp.groupby(\"Companies\").transform(lambda x: x.interpolate(limit_direction='both'))\n",
    "df_imp['Companies'] =  data['Companies']\n",
    "print(\"--------------------------------------------------\")\n",
    "print(\"Missing values left out after Linear Interpolation\")\n",
    "print(df_imp.isnull().sum())"
   ]
  },
  {
   "cell_type": "markdown",
   "metadata": {},
   "source": [
    "#### Replacing them with Column Mean"
   ]
  },
  {
   "cell_type": "code",
   "execution_count": 5,
   "metadata": {},
   "outputs": [],
   "source": [
    "df_imp['liabilities'] = df_imp['liabilities'].transform(lambda x: x.fillna(x.mean()))\n",
    "df_imp['current_assets'] = df_imp['current_assets'].transform(lambda x: x.fillna(x.mean()))\n",
    "df_imp['ppe'] = df_imp['ppe'].transform(lambda x: x.fillna(x.mean()))\n",
    "df_imp['operating_expenses'] = df_imp['operating_expenses'].transform(lambda x: x.fillna(x.mean()))\n",
    "df_imp['emp'] = df_imp['emp'].transform(lambda x: x.fillna(x.mean()))\n",
    "df_imp['book_value'] = df_imp['book_value'].transform(lambda x: x.fillna(x.mean()))\n",
    "df_imp['gross_profit'] = df_imp['gross_profit'].transform(lambda x: x.fillna(x.mean()))\n",
    "df_imp['sgna'] = df_imp['sgna'].transform(lambda x: x.fillna(x.mean()))"
   ]
  },
  {
   "cell_type": "code",
   "execution_count": 6,
   "metadata": {},
   "outputs": [
    {
     "name": "stdout",
     "output_type": "stream",
     "text": [
      "sgna                  0\n",
      "fyear                 0\n",
      "current_assets        0\n",
      "age                   0\n",
      "ppe                   0\n",
      "emp                   0\n",
      "operating_expenses    0\n",
      "liabilities           0\n",
      "book_value            0\n",
      "gross_profit          0\n",
      "Companies             0\n",
      "dtype: int64\n"
     ]
    }
   ],
   "source": [
    "print(df_imp.isnull().sum())"
   ]
  },
  {
   "cell_type": "markdown",
   "metadata": {},
   "source": [
    "### Variable Creation"
   ]
  },
  {
   "cell_type": "markdown",
   "metadata": {},
   "source": [
    "##### Create a quadratic term for SGNA (SQ_SGNA)"
   ]
  },
  {
   "cell_type": "code",
   "execution_count": 7,
   "metadata": {},
   "outputs": [
    {
     "name": "stderr",
     "output_type": "stream",
     "text": [
      "C:\\Users\\nisha\\Anaconda3\\lib\\site-packages\\ipykernel_launcher.py:1: SettingWithCopyWarning: \n",
      "A value is trying to be set on a copy of a slice from a DataFrame.\n",
      "Try using .loc[row_indexer,col_indexer] = value instead\n",
      "\n",
      "See the caveats in the documentation: http://pandas.pydata.org/pandas-docs/stable/indexing.html#indexing-view-versus-copy\n",
      "  \"\"\"Entry point for launching an IPython kernel.\n"
     ]
    }
   ],
   "source": [
    "df['SQ_SGNA'] = (df['sgna'])**2"
   ]
  },
  {
   "cell_type": "code",
   "execution_count": 8,
   "metadata": {},
   "outputs": [],
   "source": [
    "df_imp['SQ_SGNA'] = (df_imp['sgna'])**2"
   ]
  },
  {
   "cell_type": "markdown",
   "metadata": {},
   "source": [
    "### Find the lag of SGNA at the company and fyear level\n",
    "Selection of optimal lag at Company and fyear level -\n",
    "\n",
    "I looked at the acf plots for each company and fyear level and found that lags 1 and 2 have the significant correlation with the presnt sgna as shown below-\n",
    "\n",
    "In order to to get the optimal lag for every company, I have fit an OLS model to predict sgna from it's lag. I have compared the Information Criterion - AIC for lag 1, 2 and 3 and chosen the lag with the lowest AIC as the optimal lag"
   ]
  },
  {
   "cell_type": "markdown",
   "metadata": {},
   "source": [
    "#### Function to find the optimal lag for every Company at fyear level"
   ]
  },
  {
   "cell_type": "code",
   "execution_count": 9,
   "metadata": {},
   "outputs": [],
   "source": [
    "import statsmodels.api as sm\n",
    "aic_dict = {}\n",
    "df_lag=pd.DataFrame()\n",
    "def get_optimal_lag(company_name):\n",
    "    df_lag['X'] = df[df['Companies']==company_name].sgna\n",
    "    df_lag['y'] = df[df['Companies']==company_name].sgna.shift(1)\n",
    "    df_lag['X'].fillna(0,inplace=True)\n",
    "    df_lag['y'].fillna(0,inplace=True)\n",
    "    \n",
    "    X=df_lag['X'].values.reshape(-1,1)\n",
    "    Y=df_lag['y'].values.reshape(-1,1)\n",
    "    X=sm.add_constant(X)\n",
    "    model = sm.OLS(Y,X).fit()\n",
    "    aic_dict['lag1'] = model.aic\n",
    "    \n",
    "    df_lag['X'] = df[df['Companies']==company_name].sgna\n",
    "    df_lag['y'] = df[df['Companies']==company_name].sgna.shift(2)\n",
    "    df_lag['X'].fillna(0,inplace=True)\n",
    "    df_lag['y'].fillna(0,inplace=True)\n",
    "    \n",
    "    X=df_lag['X'].values.reshape(-1,1)\n",
    "    Y=df_lag['y'].values.reshape(-1,1)\n",
    "    X=sm.add_constant(X)\n",
    "    model = sm.OLS(Y,X).fit()\n",
    "    aic_dict['lag2'] = model.aic\n",
    "    \n",
    "    df_lag['X'] = df[df['Companies']==company_name].sgna\n",
    "    df_lag['y'] = df[df['Companies']==company_name].sgna.shift(3)\n",
    "    df_lag['X'].fillna(0,inplace=True)\n",
    "    df_lag['y'].fillna(0,inplace=True)\n",
    "    \n",
    "    X=df_lag['X'].values.reshape(-1,1)\n",
    "    Y=df_lag['y'].values.reshape(-1,1)\n",
    "    X=sm.add_constant(X)\n",
    "    model = sm.OLS(Y,X).fit()\n",
    "    aic_dict['lag3'] = model.aic  \n",
    "    return min(aic_dict, key=aic_dict.get)"
   ]
  },
  {
   "cell_type": "markdown",
   "metadata": {},
   "source": [
    "#### Dictionary to store the Company and its corresponding optimal lag - optimal_lag_dict"
   ]
  },
  {
   "cell_type": "code",
   "execution_count": 10,
   "metadata": {},
   "outputs": [
    {
     "name": "stderr",
     "output_type": "stream",
     "text": [
      "C:\\Users\\nisha\\Anaconda3\\lib\\site-packages\\statsmodels\\regression\\linear_model.py:867: RuntimeWarning: divide by zero encountered in log\n",
      "  llf = -nobs2*np.log(2*np.pi) - nobs2*np.log(ssr / nobs) - nobs2\n"
     ]
    }
   ],
   "source": [
    "optimal_lag_dict = {}\n",
    "for i in set(df['Companies']):\n",
    "    #optimal_lag_list.append(get_optimal_lag(i))\n",
    "    optimal_lag_dict[i] = get_optimal_lag(i)    "
   ]
  },
  {
   "cell_type": "code",
   "execution_count": 11,
   "metadata": {},
   "outputs": [],
   "source": [
    "optimal_lag_dict = {}\n",
    "for i in set(df_imp['Companies']):\n",
    "    optimal_lag_dict[i] = get_optimal_lag(i)"
   ]
  },
  {
   "cell_type": "markdown",
   "metadata": {},
   "source": [
    "#### Setting lag for every company using the optimal_lag_dict"
   ]
  },
  {
   "cell_type": "code",
   "execution_count": 12,
   "metadata": {},
   "outputs": [
    {
     "name": "stderr",
     "output_type": "stream",
     "text": [
      "C:\\Users\\nisha\\Anaconda3\\lib\\site-packages\\pandas\\core\\indexing.py:362: SettingWithCopyWarning: \n",
      "A value is trying to be set on a copy of a slice from a DataFrame.\n",
      "Try using .loc[row_indexer,col_indexer] = value instead\n",
      "\n",
      "See the caveats in the documentation: http://pandas.pydata.org/pandas-docs/stable/indexing.html#indexing-view-versus-copy\n",
      "  self.obj[key] = _infer_fill_value(value)\n",
      "C:\\Users\\nisha\\Anaconda3\\lib\\site-packages\\pandas\\core\\indexing.py:543: SettingWithCopyWarning: \n",
      "A value is trying to be set on a copy of a slice from a DataFrame.\n",
      "Try using .loc[row_indexer,col_indexer] = value instead\n",
      "\n",
      "See the caveats in the documentation: http://pandas.pydata.org/pandas-docs/stable/indexing.html#indexing-view-versus-copy\n",
      "  self.obj[item] = s\n"
     ]
    }
   ],
   "source": [
    "for i in set(df['Companies']):\n",
    "    if(optimal_lag_dict[i]=='lag1'):\n",
    "        df.loc[df.Companies==i,'lag_sgna']=df[df.Companies==i].sgna.shift(1)\n",
    "    if(optimal_lag_dict[i]=='lag2'):\n",
    "        df.loc[df.Companies==i,'lag_sgna']=df[df.Companies==i].sgna.shift(2)\n",
    "    if(optimal_lag_dict[i]=='lag3'):\n",
    "        df.loc[df.Companies==i,'lag_sgna']=df[df.Companies==i].sgna.shift(3)   "
   ]
  },
  {
   "cell_type": "code",
   "execution_count": 13,
   "metadata": {},
   "outputs": [],
   "source": [
    "for i in set(df_imp['Companies']):\n",
    "    if(optimal_lag_dict[i]=='lag1'):\n",
    "        df_imp.loc[df_imp.Companies==i,'lag_sgna']=df_imp[df_imp.Companies==i].sgna.shift(1)\n",
    "    if(optimal_lag_dict[i]=='lag2'):\n",
    "        df_imp.loc[df_imp.Companies==i,'lag_sgna']=df_imp[df_imp.Companies==i].sgna.shift(2)\n",
    "    if(optimal_lag_dict[i]=='lag3'):\n",
    "        df_imp.loc[df_imp.Companies==i,'lag_sgna']=df_imp[df_imp.Companies==i].sgna.shift(3)   "
   ]
  },
  {
   "cell_type": "markdown",
   "metadata": {},
   "source": [
    "#### Creating SGNA_MKT varables for by finding the moving average of SGNA for each firm for 3 years"
   ]
  },
  {
   "cell_type": "code",
   "execution_count": 14,
   "metadata": {},
   "outputs": [],
   "source": [
    "for i in set(df['Companies']):\n",
    "    df.loc[df.Companies==i,'sgna_mkt']=df[df.Companies==i].sgna.rolling(window=3).mean()"
   ]
  },
  {
   "cell_type": "code",
   "execution_count": 15,
   "metadata": {},
   "outputs": [],
   "source": [
    "for i in set(df_imp['Companies']):\n",
    "    df_imp.loc[df_imp.Companies==i,'sgna_mkt']=df_imp[df_imp.Companies==i].sgna.rolling(window=3).mean()"
   ]
  },
  {
   "cell_type": "markdown",
   "metadata": {},
   "source": [
    "### Calculating 'growth_in_profit'"
   ]
  },
  {
   "cell_type": "code",
   "execution_count": 16,
   "metadata": {},
   "outputs": [],
   "source": [
    "for i in set(df['Companies']):\n",
    "    df.loc[df.Companies==i,'lag_gross_profit']=df[df.Companies==i].sgna.shift(1)\n",
    "for comp in set(df.Companies):\n",
    "    df.loc[df.Companies == comp, 'growth_in_profit'] = (df['gross_profit'] - df['lag_gross_profit'])/(df['lag_gross_profit'])"
   ]
  },
  {
   "cell_type": "code",
   "execution_count": 17,
   "metadata": {},
   "outputs": [
    {
     "data": {
      "text/plain": [
       "82"
      ]
     },
     "execution_count": 17,
     "metadata": {},
     "output_type": "execute_result"
    }
   ],
   "source": [
    "df['growth_in_profit'].isnull().sum()"
   ]
  },
  {
   "cell_type": "code",
   "execution_count": 18,
   "metadata": {},
   "outputs": [
    {
     "name": "stderr",
     "output_type": "stream",
     "text": [
      "C:\\Users\\nisha\\Anaconda3\\lib\\site-packages\\ipykernel_launcher.py:4: SettingWithCopyWarning: \n",
      "A value is trying to be set on a copy of a slice from a DataFrame\n",
      "\n",
      "See the caveats in the documentation: http://pandas.pydata.org/pandas-docs/stable/indexing.html#indexing-view-versus-copy\n",
      "  after removing the cwd from sys.path.\n"
     ]
    }
   ],
   "source": [
    "# Deleting rest of the missing values\n",
    "df.isnull().sum()\n",
    "\n",
    "df.dropna(inplace=True)"
   ]
  },
  {
   "cell_type": "markdown",
   "metadata": {},
   "source": [
    "#### Growth in Profit for df_imp"
   ]
  },
  {
   "cell_type": "code",
   "execution_count": 19,
   "metadata": {},
   "outputs": [],
   "source": [
    "for i in set(df_imp['Companies']):\n",
    "    df_imp.loc[df_imp.Companies==i,'lag_gross_profit']=df_imp[df_imp.Companies==i].sgna.shift(1)\n",
    "for comp in set(df_imp.Companies):\n",
    "    df_imp.loc[df_imp.Companies == comp, 'growth_in_profit'] = (df_imp['gross_profit'] - df_imp['lag_gross_profit'])/(df_imp['lag_gross_profit'])"
   ]
  },
  {
   "cell_type": "code",
   "execution_count": 20,
   "metadata": {},
   "outputs": [
    {
     "data": {
      "text/plain": [
       "262"
      ]
     },
     "execution_count": 20,
     "metadata": {},
     "output_type": "execute_result"
    }
   ],
   "source": [
    "df_imp['growth_in_profit'].isnull().sum()"
   ]
  },
  {
   "cell_type": "code",
   "execution_count": 21,
   "metadata": {},
   "outputs": [],
   "source": [
    "for comp in set(df_imp.Companies):\n",
    "    df_imp.loc[df_imp.Companies == comp, 'growth_in_profit'] = df_imp['growth_in_profit'].transform(lambda x: x.fillna(x.mean()))\n",
    "\n",
    "df_imp['growth_in_profit'].fillna(0, inplace=True)\n",
    "df_imp.loc[df_imp['growth_in_profit'] == float(\"-inf\"), 'growth_in_profit'] = 0\n",
    "df_imp.loc[df_imp['growth_in_profit'] == float(\"inf\"), 'growth_in_profit'] = 0"
   ]
  },
  {
   "cell_type": "code",
   "execution_count": 22,
   "metadata": {},
   "outputs": [
    {
     "data": {
      "text/plain": [
       "0"
      ]
     },
     "execution_count": 22,
     "metadata": {},
     "output_type": "execute_result"
    }
   ],
   "source": [
    "df_imp['growth_in_profit'].isnull().sum()"
   ]
  },
  {
   "cell_type": "code",
   "execution_count": 23,
   "metadata": {},
   "outputs": [
    {
     "data": {
      "text/plain": [
       "sgna                    0\n",
       "fyear                   0\n",
       "current_assets          0\n",
       "age                     0\n",
       "ppe                     0\n",
       "emp                     0\n",
       "operating_expenses      0\n",
       "liabilities             0\n",
       "book_value              0\n",
       "gross_profit            0\n",
       "Companies               0\n",
       "SQ_SGNA                 0\n",
       "lag_sgna              239\n",
       "sgna_mkt              474\n",
       "lag_gross_profit      238\n",
       "growth_in_profit        0\n",
       "dtype: int64"
      ]
     },
     "execution_count": 23,
     "metadata": {},
     "output_type": "execute_result"
    }
   ],
   "source": [
    "df_imp.isnull().sum()"
   ]
  },
  {
   "cell_type": "markdown",
   "metadata": {},
   "source": [
    "#### Removing rows with missing lag_sgna, sgna_mkt,lag_gross_profit"
   ]
  },
  {
   "cell_type": "code",
   "execution_count": 24,
   "metadata": {},
   "outputs": [],
   "source": [
    "df_imp.dropna(inplace=True)"
   ]
  },
  {
   "cell_type": "markdown",
   "metadata": {},
   "source": [
    "### Functions for all Training Models to be used in our analysis"
   ]
  },
  {
   "cell_type": "markdown",
   "metadata": {},
   "source": [
    "#### Function to draw Scatter plot"
   ]
  },
  {
   "cell_type": "code",
   "execution_count": 25,
   "metadata": {},
   "outputs": [],
   "source": [
    "def scatter_plot(x,y):\n",
    "    colors = (0,0,0)\n",
    "    area = np.pi*3\n",
    "    plt.scatter(x = x, y = y, s=area, c=colors, alpha=0.5)\n",
    "    plt.title('Scatter plot')\n",
    "    plt.show()"
   ]
  },
  {
   "cell_type": "markdown",
   "metadata": {},
   "source": [
    "#### Function to print model metrics MAE, MSE, RMSE and R-squared"
   ]
  },
  {
   "cell_type": "code",
   "execution_count": 26,
   "metadata": {},
   "outputs": [],
   "source": [
    "from sklearn.metrics import mean_squared_error, r2_score\n",
    "def printMetrics(y_actual,y_predicted):\n",
    "    print('Mean Absolute Error:', metrics.mean_absolute_error(y_actual, y_predicted))  \n",
    "    print('Mean Squared Error:', metrics.mean_squared_error(y_actual, y_predicted))  \n",
    "    print('Root Mean Squared Error:', np.sqrt(metrics.mean_squared_error(y_actual, y_predicted)))\n",
    "    print('R-squared:',metrics.r2_score(y_actual, y_predicted))"
   ]
  },
  {
   "cell_type": "markdown",
   "metadata": {},
   "source": [
    "#### Functions for Linear, Ridge, ElasticNet and Lasso Regression"
   ]
  },
  {
   "cell_type": "code",
   "execution_count": 27,
   "metadata": {},
   "outputs": [],
   "source": [
    "#Linear Regression\n",
    "from sklearn.linear_model import LinearRegression\n",
    "def LinearReg(iv,dv):\n",
    "    lm = LinearRegression()\n",
    "    lm.fit(iv,dv)\n",
    "    return lm\n",
    "\n",
    "#Lasso Regression\n",
    "from sklearn.linear_model import Lasso\n",
    "def LassoReg(iv,dv):\n",
    "    lasso = Lasso()\n",
    "    lasso.fit(iv,dv)\n",
    "    return lasso\n",
    "\n",
    "#Ridge Regression\n",
    "from sklearn.linear_model import Ridge\n",
    "def RidgeReg(iv,dv):\n",
    "    ridge = Ridge()\n",
    "    ridge.fit(iv,dv)\n",
    "    return ridge\n",
    "        \n",
    "#ElasticNet Regression\n",
    "from sklearn.linear_model import ElasticNet\n",
    "def ElasticNetReg(iv,dv):\n",
    "    elastic = ElasticNet()\n",
    "    elastic.fit(iv,dv)\n",
    "    return elastic"
   ]
  },
  {
   "cell_type": "markdown",
   "metadata": {},
   "source": [
    "#### Functions for Support Vector Regression"
   ]
  },
  {
   "cell_type": "code",
   "execution_count": 28,
   "metadata": {},
   "outputs": [],
   "source": [
    "#Support Vector Regression with Kernel RBF\n",
    "from sklearn.svm import SVR\n",
    "def SVR_RBF(iv,dv):\n",
    "    svr = SVR(kernel='rbf')\n",
    "    svr.fit(iv,dv)\n",
    "    return svr\n",
    "\n",
    "#Linear Support Vector Regression\n",
    "from sklearn.svm import LinearSVR\n",
    "def SVR_Linear(iv,dv):\n",
    "    lsvr = LinearSVR(random_state=0, tol=1e-5)\n",
    "    lsvr.fit(iv,dv)\n",
    "    return lsvr"
   ]
  },
  {
   "cell_type": "markdown",
   "metadata": {},
   "source": [
    "#### Function for XGBoost with different Tuning parameters "
   ]
  },
  {
   "cell_type": "code",
   "execution_count": 29,
   "metadata": {},
   "outputs": [],
   "source": [
    "import xgboost as xgb\n",
    "def XGBoostReg(iv,dv,max_depth,objective,n_estimators,learning_rate):\n",
    "    data_dmatrix = xgb.DMatrix(data=iv,label=dv)\n",
    "    xg_reg = xgb.XGBRegressor(objective =objective, colsample_bytree = 0.3, learning_rate = learning_rate,\n",
    "                    max_depth = max_depth, alpha = 10, n_estimators = n_estimators)\n",
    "    xg_reg.fit(iv,dv)\n",
    "    return xg_reg"
   ]
  },
  {
   "cell_type": "markdown",
   "metadata": {},
   "source": [
    "#### Function for AdaBoost with different Tuning parameters"
   ]
  },
  {
   "cell_type": "code",
   "execution_count": 30,
   "metadata": {},
   "outputs": [],
   "source": [
    "from sklearn.ensemble import AdaBoostRegressor\n",
    "def AdaBoost(iv,dv,n_estimators,learning_rate):\n",
    "    ada = AdaBoostRegressor(n_estimators=n_estimators,\n",
    "                             learning_rate=learning_rate)\n",
    "    ada.fit(iv,dv)\n",
    "    return ada"
   ]
  },
  {
   "cell_type": "markdown",
   "metadata": {},
   "source": [
    "#### Function for Decision Tree Regression with different Tuning parameters"
   ]
  },
  {
   "cell_type": "code",
   "execution_count": 31,
   "metadata": {},
   "outputs": [],
   "source": [
    "from sklearn.tree import DecisionTreeRegressor\n",
    "def DecisionTreeReg(iv,dv,max_depth):\n",
    "    dec = DecisionTreeRegressor(max_depth=max_depth)\n",
    "    dec.fit(iv,dv)\n",
    "    return dec"
   ]
  },
  {
   "cell_type": "markdown",
   "metadata": {},
   "source": [
    "#### Orthogonal Matching Pursuit Function"
   ]
  },
  {
   "cell_type": "code",
   "execution_count": 32,
   "metadata": {},
   "outputs": [],
   "source": [
    "from sklearn.linear_model import OrthogonalMatchingPursuit\n",
    "\n",
    "def OrthogonalMatchReg(iv,dv):\n",
    "    orth = OrthogonalMatchingPursuit().fit(iv, dv)\n",
    "    return orth"
   ]
  },
  {
   "cell_type": "markdown",
   "metadata": {},
   "source": [
    "#### Bayesian Ridge Regression Function"
   ]
  },
  {
   "cell_type": "code",
   "execution_count": 33,
   "metadata": {},
   "outputs": [],
   "source": [
    "from sklearn import linear_model\n",
    "def BayesianRidgeReg(iv,dv):\n",
    "    bridge = linear_model.BayesianRidge().fit(iv, dv)\n",
    "    return bridge"
   ]
  },
  {
   "cell_type": "markdown",
   "metadata": {},
   "source": [
    "#### Function for Robust Linear Model Estimation using RANSAC"
   ]
  },
  {
   "cell_type": "code",
   "execution_count": 34,
   "metadata": {},
   "outputs": [],
   "source": [
    "from sklearn import linear_model\n",
    "def RansacReg(iv,dv):\n",
    "    ransac = linear_model.RANSACRegressor().fit(iv,dv)\n",
    "    return ransac"
   ]
  },
  {
   "cell_type": "markdown",
   "metadata": {},
   "source": [
    "#### RandomForest Regression Function"
   ]
  },
  {
   "cell_type": "code",
   "execution_count": 35,
   "metadata": {},
   "outputs": [],
   "source": [
    "from sklearn.ensemble import RandomForestRegressor\n",
    "def RandomForestReg(iv,dv,n_estimators,random_state):\n",
    "    rf = RandomForestRegressor(n_estimators = n_estimators, random_state = random_state)\n",
    "    rf.fit(iv,dv)\n",
    "    return rf"
   ]
  },
  {
   "cell_type": "markdown",
   "metadata": {},
   "source": [
    "#### Gradient Boosting Regression Function"
   ]
  },
  {
   "cell_type": "code",
   "execution_count": 36,
   "metadata": {},
   "outputs": [],
   "source": [
    "from sklearn import ensemble\n",
    "def GradientBoostReg(iv,dv,n_estimators,max_depth,learning_rate,criterion):\n",
    "    gbreg = ensemble.GradientBoostingRegressor(n_estimators=n_estimators,max_depth=max_depth,\n",
    "                                               learning_rate=learning_rate,criterion=criterion)\n",
    "    gbreg.fit(iv,dv)\n",
    "    return gbreg"
   ]
  },
  {
   "cell_type": "markdown",
   "metadata": {},
   "source": [
    "#### Function for forward-backward Feature selection based on p-value from statsmodels.api.OLS"
   ]
  },
  {
   "cell_type": "code",
   "execution_count": 37,
   "metadata": {},
   "outputs": [],
   "source": [
    "import statsmodels.formula.api as smf\n",
    "\n",
    "def stepwise_selection(X, y, \n",
    "                       initial_list=[], \n",
    "                       threshold_in=0.01, \n",
    "                       threshold_out = 0.05,\n",
    "                       verbose=True):\n",
    "    included = list(initial_list)\n",
    "    while True:\n",
    "        changed=False\n",
    "        # forward step\n",
    "        excluded = list(set(X.columns)-set(included))\n",
    "        new_pval = pd.Series(index=excluded)\n",
    "        for new_column in excluded:\n",
    "            model = sm.OLS(y, sm.add_constant(pd.DataFrame(X[included+[new_column]]))).fit()\n",
    "            new_pval[new_column] = model.pvalues[new_column]\n",
    "        best_pval = new_pval.min()\n",
    "        if best_pval < threshold_in:\n",
    "            best_feature = new_pval.argmin()\n",
    "            included.append(best_feature)\n",
    "            changed=True\n",
    "            if verbose:\n",
    "                print('Add  {:30} with p-value {:.6}'.format(best_feature, best_pval))\n",
    "\n",
    "        # backward step\n",
    "        model = sm.OLS(y, sm.add_constant(pd.DataFrame(X[included]))).fit()\n",
    "        # use all coefs except intercept\n",
    "        pvalues = model.pvalues.iloc[1:]\n",
    "        worst_pval = pvalues.max() # null if pvalues is empty\n",
    "        if worst_pval > threshold_out:\n",
    "            changed=True\n",
    "            worst_feature = pvalues.argmax()\n",
    "            included.remove(worst_feature)\n",
    "            if verbose:\n",
    "                print('Drop {:30} with p-value {:.6}'.format(worst_feature, worst_pval))\n",
    "        if not changed:\n",
    "            break\n",
    "    return included"
   ]
  },
  {
   "cell_type": "markdown",
   "metadata": {},
   "source": [
    "#### Function to predict Growth_In_Profit using a Specified Model"
   ]
  },
  {
   "cell_type": "code",
   "execution_count": 38,
   "metadata": {},
   "outputs": [],
   "source": [
    "def RegPredict(lm,iv,dv):\n",
    "    y_pred= lm.predict(iv)\n",
    "    printMetrics(dv,y_pred)\n",
    "    return y_pred"
   ]
  },
  {
   "cell_type": "markdown",
   "metadata": {},
   "source": [
    "#### Function to plot Feature Importances "
   ]
  },
  {
   "cell_type": "code",
   "execution_count": 39,
   "metadata": {},
   "outputs": [],
   "source": [
    "def plot_feature_imp(lm,index):\n",
    "    a=lm.coef_.tolist()\n",
    "    flat_coeff_list = [val for sublist in a for val in sublist]\n",
    "    feature_imp = pd.Series(flat_coeff_list, index=index).sort_values(ascending=True)\n",
    "    feature_imp.plot(kind='barh', title='Feature Importance')\n",
    "    plt.show()"
   ]
  },
  {
   "cell_type": "code",
   "execution_count": 40,
   "metadata": {},
   "outputs": [],
   "source": [
    "# Feature Importance function fro ElasticNet\n",
    "def plot_feature_imp_EN(lm,index):\n",
    "    feature_imp = pd.Series(lm.coef_, index=index).sort_values(ascending=True)\n",
    "    feature_imp.plot(kind='barh', title='Feature Importance')\n",
    "    plt.show()"
   ]
  },
  {
   "cell_type": "markdown",
   "metadata": {},
   "source": [
    "### a.\tEstimate a regression model with SGNA as dependent variable and lag_sgna and sgna_mkt as independent variables. Store the residual of the model NAMED AS “R1”"
   ]
  },
  {
   "cell_type": "code",
   "execution_count": 41,
   "metadata": {},
   "outputs": [
    {
     "name": "stderr",
     "output_type": "stream",
     "text": [
      "'c' argument looks like a single numeric RGB or RGBA sequence, which should be avoided as value-mapping will have precedence in case its length matches with 'x' & 'y'.  Please use a 2-D array with a single row if you really want to specify the same RGB or RGBA value for all points.\n"
     ]
    },
    {
     "data": {
      "image/png": "[encoded data removed]",
      "text/plain": [
       "<Figure size 432x288 with 1 Axes>"
      ]
     },
     "metadata": {
      "needs_background": "light"
     },
     "output_type": "display_data"
    },
    {
     "name": "stderr",
     "output_type": "stream",
     "text": [
      "'c' argument looks like a single numeric RGB or RGBA sequence, which should be avoided as value-mapping will have precedence in case its length matches with 'x' & 'y'.  Please use a 2-D array with a single row if you really want to specify the same RGB or RGBA value for all points.\n"
     ]
    },
    {
     "data": {
      "image/png": "[encoded data removed]",
      "text/plain": [
       "<Figure size 432x288 with 1 Axes>"
      ]
     },
     "metadata": {
      "needs_background": "light"
     },
     "output_type": "display_data"
    },
    {
     "name": "stdout",
     "output_type": "stream",
     "text": [
      "Linear Regression Metrics\n",
      "Mean Absolute Error: 207.41381106368226\n",
      "Mean Squared Error: 235335.23416669117\n",
      "Root Mean Squared Error: 485.11363015966805\n",
      "R-squared: 0.9915138646367065\n"
     ]
    },
    {
     "name": "stderr",
     "output_type": "stream",
     "text": [
      "C:\\Users\\nisha\\Anaconda3\\lib\\site-packages\\pandas\\core\\frame.py:4034: SettingWithCopyWarning: \n",
      "A value is trying to be set on a copy of a slice from a DataFrame\n",
      "\n",
      "See the caveats in the documentation: http://pandas.pydata.org/pandas-docs/stable/indexing.html#indexing-view-versus-copy\n",
      "  downcast=downcast, **kwargs)\n"
     ]
    }
   ],
   "source": [
    "x1 = df[['lag_sgna', 'sgna_mkt']]\n",
    "y1 = df['sgna']\n",
    "scatter_plot(x = x1['lag_sgna'], y = y1)\n",
    "scatter_plot(x = x1['sgna_mkt'], y = y1)\n",
    "x1.fillna(0,inplace=True)\n",
    "print(\"Linear Regression Metrics\")\n",
    "rd=LinearReg(x1,y1)\n",
    "pred=RegPredict(rd,x1,y1)"
   ]
  },
  {
   "cell_type": "code",
   "execution_count": 42,
   "metadata": {},
   "outputs": [
    {
     "name": "stdout",
     "output_type": "stream",
     "text": [
      "Distribution of residuals\n"
     ]
    },
    {
     "name": "stderr",
     "output_type": "stream",
     "text": [
      "C:\\Users\\nisha\\Anaconda3\\lib\\site-packages\\ipykernel_launcher.py:1: SettingWithCopyWarning: \n",
      "A value is trying to be set on a copy of a slice from a DataFrame.\n",
      "Try using .loc[row_indexer,col_indexer] = value instead\n",
      "\n",
      "See the caveats in the documentation: http://pandas.pydata.org/pandas-docs/stable/indexing.html#indexing-view-versus-copy\n",
      "  \"\"\"Entry point for launching an IPython kernel.\n"
     ]
    },
    {
     "data": {
      "text/plain": [
       "<matplotlib.axes._subplots.AxesSubplot at 0x1ef1e78ccc0>"
      ]
     },
     "execution_count": 42,
     "metadata": {},
     "output_type": "execute_result"
    },
    {
     "data": {
      "image/png": "[encoded data removed]",
      "text/plain": [
       "<Figure size 432x288 with 1 Axes>"
      ]
     },
     "metadata": {
      "needs_background": "light"
     },
     "output_type": "display_data"
    }
   ],
   "source": [
    "df['R1'] = df['sgna'] - pred\n",
    "print(\"Distribution of residuals\")\n",
    "df['R1'].hist()"
   ]
  },
  {
   "cell_type": "code",
   "execution_count": 43,
   "metadata": {},
   "outputs": [
    {
     "name": "stderr",
     "output_type": "stream",
     "text": [
      "'c' argument looks like a single numeric RGB or RGBA sequence, which should be avoided as value-mapping will have precedence in case its length matches with 'x' & 'y'.  Please use a 2-D array with a single row if you really want to specify the same RGB or RGBA value for all points.\n"
     ]
    },
    {
     "data": {
      "image/png": "[encoded data removed]",
      "text/plain": [
       "<Figure size 432x288 with 1 Axes>"
      ]
     },
     "metadata": {
      "needs_background": "light"
     },
     "output_type": "display_data"
    },
    {
     "name": "stderr",
     "output_type": "stream",
     "text": [
      "'c' argument looks like a single numeric RGB or RGBA sequence, which should be avoided as value-mapping will have precedence in case its length matches with 'x' & 'y'.  Please use a 2-D array with a single row if you really want to specify the same RGB or RGBA value for all points.\n"
     ]
    },
    {
     "data": {
      "image/png": "[encoded data removed]",
      "text/plain": [
       "<Figure size 432x288 with 1 Axes>"
      ]
     },
     "metadata": {
      "needs_background": "light"
     },
     "output_type": "display_data"
    },
    {
     "name": "stdout",
     "output_type": "stream",
     "text": [
      "Linear Regression Metrics\n",
      "Mean Absolute Error: 109.09551078396623\n",
      "Mean Squared Error: 106200.84963594824\n",
      "Root Mean Squared Error: 325.8847183222132\n",
      "R-squared: 0.9922404292712665\n"
     ]
    },
    {
     "name": "stderr",
     "output_type": "stream",
     "text": [
      "C:\\Users\\nisha\\Anaconda3\\lib\\site-packages\\pandas\\core\\frame.py:4034: SettingWithCopyWarning: \n",
      "A value is trying to be set on a copy of a slice from a DataFrame\n",
      "\n",
      "See the caveats in the documentation: http://pandas.pydata.org/pandas-docs/stable/indexing.html#indexing-view-versus-copy\n",
      "  downcast=downcast, **kwargs)\n"
     ]
    }
   ],
   "source": [
    "x1 = df_imp[['lag_sgna', 'sgna_mkt']]\n",
    "y1 = df_imp['sgna']\n",
    "scatter_plot(x = x1['lag_sgna'], y = y1)\n",
    "scatter_plot(x = x1['sgna_mkt'], y = y1)\n",
    "x1.fillna(0,inplace=True)\n",
    "print(\"Linear Regression Metrics\")\n",
    "rd=LinearReg(x1,y1)\n",
    "pred=RegPredict(rd,x1,y1)"
   ]
  },
  {
   "cell_type": "code",
   "execution_count": 44,
   "metadata": {},
   "outputs": [
    {
     "name": "stdout",
     "output_type": "stream",
     "text": [
      "Distribution of residuals\n"
     ]
    },
    {
     "data": {
      "text/plain": [
       "<matplotlib.axes._subplots.AxesSubplot at 0x1ef1ea61c18>"
      ]
     },
     "execution_count": 44,
     "metadata": {},
     "output_type": "execute_result"
    },
    {
     "data": {
      "image/png": "[encoded data removed]",
      "text/plain": [
       "<Figure size 432x288 with 1 Axes>"
      ]
     },
     "metadata": {
      "needs_background": "light"
     },
     "output_type": "display_data"
    }
   ],
   "source": [
    "df_imp['R1'] = df_imp['sgna'] - pred\n",
    "print(\"Distribution of residuals\")\n",
    "df_imp['R1'].hist()"
   ]
  },
  {
   "cell_type": "markdown",
   "metadata": {},
   "source": [
    "### Model 2: DV=Growth in Profit, IV= SGNA and SQ_SGNA; CONTROL= current assets, age, ppe, emp, operating expenses, liabilities, book value, r1"
   ]
  },
  {
   "cell_type": "markdown",
   "metadata": {},
   "source": [
    "#### Defining Variables"
   ]
  },
  {
   "cell_type": "code",
   "execution_count": 45,
   "metadata": {},
   "outputs": [],
   "source": [
    "DV = ['growth_in_profit']\n",
    "IV = ['sgna', 'SQ_SGNA']\n",
    "CV = ['current_assets','age', 'ppe', 'emp', 'operating_expenses','liabilities', 'book_value','R1']"
   ]
  },
  {
   "cell_type": "markdown",
   "metadata": {},
   "source": [
    "#### Splitting data into Train and Test sets"
   ]
  },
  {
   "cell_type": "code",
   "execution_count": 46,
   "metadata": {},
   "outputs": [],
   "source": [
    "X = df[IV + CV]\n",
    "y = df[DV].values.reshape(-1,1)\n",
    "\n",
    "X_train, X_test, y_train, y_test = train_test_split(X, y, test_size=0.2, random_state=0)"
   ]
  },
  {
   "cell_type": "code",
   "execution_count": 47,
   "metadata": {},
   "outputs": [],
   "source": [
    "X_imp = df_imp[IV + CV]\n",
    "y_imp = df_imp[DV].values.reshape(-1,1)\n",
    "\n",
    "X_train_imp, X_test_imp, y_train_imp, y_test_imp = train_test_split(X_imp, y_imp, test_size=0.2, random_state=0)"
   ]
  },
  {
   "cell_type": "markdown",
   "metadata": {},
   "source": [
    "#### Checking Correlation"
   ]
  },
  {
   "cell_type": "code",
   "execution_count": 48,
   "metadata": {},
   "outputs": [
    {
     "data": {
      "text/plain": [
       "<matplotlib.axes._subplots.AxesSubplot at 0x1ef1ea22710>"
      ]
     },
     "execution_count": 48,
     "metadata": {},
     "output_type": "execute_result"
    },
    {
     "data": {
      "image/png": "[encoded data removed]",
      "text/plain": [
       "<Figure size 720x504 with 2 Axes>"
      ]
     },
     "metadata": {
      "needs_background": "light"
     },
     "output_type": "display_data"
    }
   ],
   "source": [
    "colormap = plt.cm.RdBu\n",
    "plt.figure(figsize=(10,7))\n",
    "plt.title('Pearson Correlation of Features for dataset without Imputation', y=1.05, size=15)\n",
    "sns.heatmap(X.corr(),linewidths=0.1,vmax=1.0, \n",
    "            square=True, cmap=colormap, linecolor='white', annot=True)\n",
    "# Note that the categorical features have been neglected in the\n",
    "# correlation matrix."
   ]
  },
  {
   "cell_type": "code",
   "execution_count": 49,
   "metadata": {},
   "outputs": [
    {
     "data": {
      "text/plain": [
       "<matplotlib.axes._subplots.AxesSubplot at 0x1ef1ed4ab38>"
      ]
     },
     "execution_count": 49,
     "metadata": {},
     "output_type": "execute_result"
    },
    {
     "data": {
      "image/png": "[encoded data removed]",
      "text/plain": [
       "<Figure size 720x504 with 2 Axes>"
      ]
     },
     "metadata": {
      "needs_background": "light"
     },
     "output_type": "display_data"
    }
   ],
   "source": [
    "colormap = plt.cm.RdBu\n",
    "plt.figure(figsize=(10,7))\n",
    "plt.title('Pearson Correlation of Features for dataset with Imputation', y=1.05, size=15)\n",
    "sns.heatmap(X_imp.corr(),linewidths=0.1,vmax=1.0, \n",
    "            square=True, cmap=colormap, linecolor='white', annot=True)\n",
    "# Note that the categorical features have been neglected in the\n",
    "# correlation matrix."
   ]
  },
  {
   "cell_type": "markdown",
   "metadata": {},
   "source": [
    "### Linear Regression"
   ]
  },
  {
   "cell_type": "code",
   "execution_count": 50,
   "metadata": {},
   "outputs": [
    {
     "name": "stdout",
     "output_type": "stream",
     "text": [
      "Linear Regression Results - without Imputation\n",
      "Mean Absolute Error: 1.3852064969054572\n",
      "Mean Squared Error: 51.52200467650966\n",
      "Root Mean Squared Error: 7.17788302192991\n",
      "R-squared: 0.11016842333958798\n"
     ]
    },
    {
     "data": {
      "image/png": "[encoded data removed]",
      "text/plain": [
       "<Figure size 432x288 with 1 Axes>"
      ]
     },
     "metadata": {
      "needs_background": "light"
     },
     "output_type": "display_data"
    }
   ],
   "source": [
    "print(\"Linear Regression Results - without Imputation\")\n",
    "lr=LinearReg(X_train,y_train)\n",
    "pred=RegPredict(lr,X_test,y_test)\n",
    "\n",
    "#Plotting Feature Importances \n",
    "feature_list = list(X.columns)\n",
    "plot_feature_imp(lr,index=feature_list)"
   ]
  },
  {
   "cell_type": "code",
   "execution_count": 51,
   "metadata": {},
   "outputs": [
    {
     "name": "stdout",
     "output_type": "stream",
     "text": [
      "Linear Regression Results - with Imputation\n",
      "Mean Absolute Error: 14.686772088146535\n",
      "Mean Squared Error: 12746.574597794975\n",
      "Root Mean Squared Error: 112.90072895156601\n",
      "R-squared: 0.004371600587501523\n"
     ]
    },
    {
     "data": {
      "image/png": "[encoded data removed]",
      "text/plain": [
       "<Figure size 432x288 with 1 Axes>"
      ]
     },
     "metadata": {
      "needs_background": "light"
     },
     "output_type": "display_data"
    }
   ],
   "source": [
    "print(\"Linear Regression Results - with Imputation\")\n",
    "lr=LinearReg(X_train_imp,y_train_imp)\n",
    "pred=RegPredict(lr,X_test_imp,y_test_imp)\n",
    "\n",
    "#Plotting Feature Importances \n",
    "feature_list = list(X_imp.columns)\n",
    "plot_feature_imp(lr,index=feature_list)"
   ]
  },
  {
   "cell_type": "markdown",
   "metadata": {},
   "source": [
    "### Lasso Regression"
   ]
  },
  {
   "cell_type": "code",
   "execution_count": 52,
   "metadata": {},
   "outputs": [
    {
     "name": "stdout",
     "output_type": "stream",
     "text": [
      "Lasso Regression Metrics - without Imputation\n",
      "Mean Absolute Error: 1.3787595055556459\n",
      "Mean Squared Error: 51.62532251724244\n",
      "Root Mean Squared Error: 7.185076375185057\n",
      "R-squared: 0.10838403087090143\n"
     ]
    },
    {
     "data": {
      "image/png": "[encoded data removed]",
      "text/plain": [
       "<Figure size 432x288 with 1 Axes>"
      ]
     },
     "metadata": {
      "needs_background": "light"
     },
     "output_type": "display_data"
    }
   ],
   "source": [
    "print(\"Lasso Regression Metrics - without Imputation\")\n",
    "las=LassoReg(X_train,y_train)\n",
    "pred=RegPredict(las,X_test,y_test)\n",
    "\n",
    "#Plotting Feature Importances \n",
    "feature_list = list(X.columns)\n",
    "plot_feature_imp_EN(las,index=feature_list)"
   ]
  },
  {
   "cell_type": "code",
   "execution_count": 53,
   "metadata": {},
   "outputs": [
    {
     "name": "stdout",
     "output_type": "stream",
     "text": [
      "Lasso Regression Results - with Imputation\n",
      "Mean Absolute Error: 14.67357817111723\n",
      "Mean Squared Error: 12746.806525752789\n",
      "Root Mean Squared Error: 112.90175607913629\n",
      "R-squared: 0.0043534848137580795\n"
     ]
    },
    {
     "data": {
      "image/png": "[encoded data removed]",
      "text/plain": [
       "<Figure size 432x288 with 1 Axes>"
      ]
     },
     "metadata": {
      "needs_background": "light"
     },
     "output_type": "display_data"
    }
   ],
   "source": [
    "print(\"Lasso Regression Results - with Imputation\")\n",
    "las=LassoReg(X_train_imp,y_train_imp)\n",
    "pred=RegPredict(las,X_test_imp,y_test_imp)\n",
    "\n",
    "#Plotting Feature Importances \n",
    "feature_list = list(X_imp.columns)\n",
    "plot_feature_imp_EN(las,index=feature_list)"
   ]
  },
  {
   "cell_type": "markdown",
   "metadata": {},
   "source": [
    "### Ridge Regression"
   ]
  },
  {
   "cell_type": "code",
   "execution_count": 54,
   "metadata": {},
   "outputs": [
    {
     "name": "stdout",
     "output_type": "stream",
     "text": [
      "Ridge Regression Metrics -- Without Imputation\n",
      "Mean Absolute Error: 1.3852063310828227\n",
      "Mean Squared Error: 51.522006653022416\n",
      "Root Mean Squared Error: 7.177883159610667\n",
      "R-squared: 0.11016838920342664\n"
     ]
    },
    {
     "data": {
      "image/png": "[encoded data removed]",
      "text/plain": [
       "<Figure size 432x288 with 1 Axes>"
      ]
     },
     "metadata": {
      "needs_background": "light"
     },
     "output_type": "display_data"
    }
   ],
   "source": [
    "print(\"Ridge Regression Metrics -- Without Imputation\")\n",
    "rd=RidgeReg(X_train,y_train)\n",
    "pred=RegPredict(rd,X_test,y_test)\n",
    "\n",
    "#Plotting Feature Importances \n",
    "feature_list = list(X.columns)\n",
    "plot_feature_imp(rd,index=feature_list)"
   ]
  },
  {
   "cell_type": "code",
   "execution_count": 55,
   "metadata": {},
   "outputs": [
    {
     "name": "stdout",
     "output_type": "stream",
     "text": [
      "Ridge Regression Metrics -- With Imputation\n",
      "Mean Absolute Error: 14.686771558192042\n",
      "Mean Squared Error: 12746.574606480322\n",
      "Root Mean Squared Error: 112.90072899003054\n",
      "R-squared: 0.0043715999090935265\n"
     ]
    },
    {
     "data": {
      "image/png": "[encoded data removed]",
      "text/plain": [
       "<Figure size 432x288 with 1 Axes>"
      ]
     },
     "metadata": {
      "needs_background": "light"
     },
     "output_type": "display_data"
    }
   ],
   "source": [
    "print(\"Ridge Regression Metrics -- With Imputation\")\n",
    "rd=RidgeReg(X_train_imp,y_train_imp)\n",
    "pred=RegPredict(rd,X_test_imp,y_test_imp)\n",
    "\n",
    "#Plotting Feature Importances \n",
    "feature_list = list(X_imp.columns)\n",
    "plot_feature_imp(rd,index=feature_list)"
   ]
  },
  {
   "cell_type": "markdown",
   "metadata": {},
   "source": [
    "### ElasticNet Regression"
   ]
  },
  {
   "cell_type": "code",
   "execution_count": 56,
   "metadata": {},
   "outputs": [
    {
     "name": "stdout",
     "output_type": "stream",
     "text": [
      "ElasticNet Regression Results - without Imputation\n",
      "Mean Absolute Error: 1.3812840964142876\n",
      "Mean Squared Error: 51.576131613134024\n",
      "Root Mean Squared Error: 7.1816524291512485\n",
      "R-squared: 0.10923360223434064\n"
     ]
    },
    {
     "data": {
      "image/png": "[encoded data removed]",
      "text/plain": [
       "<Figure size 432x288 with 1 Axes>"
      ]
     },
     "metadata": {
      "needs_background": "light"
     },
     "output_type": "display_data"
    }
   ],
   "source": [
    "print(\"ElasticNet Regression Results - without Imputation\")\n",
    "en=ElasticNetReg(X_train,y_train)\n",
    "pred=RegPredict(en,X_test,y_test)\n",
    "\n",
    "#Plotting Feature Importances after adding CV individually\n",
    "feature_list = list(X.columns)\n",
    "plot_feature_imp_EN(en,index=feature_list)"
   ]
  },
  {
   "cell_type": "code",
   "execution_count": 57,
   "metadata": {},
   "outputs": [
    {
     "name": "stdout",
     "output_type": "stream",
     "text": [
      "Lasso Regression Results - with Imputation\n",
      "Mean Absolute Error: 14.679563618570066\n",
      "Mean Squared Error: 12746.69965085732\n",
      "Root Mean Squared Error: 112.90128276887432\n",
      "R-squared: 0.004361832756987649\n"
     ]
    },
    {
     "data": {
      "image/png": "[encoded data removed]",
      "text/plain": [
       "<Figure size 432x288 with 1 Axes>"
      ]
     },
     "metadata": {
      "needs_background": "light"
     },
     "output_type": "display_data"
    }
   ],
   "source": [
    "print(\"Lasso Regression Results - with Imputation\")\n",
    "en=ElasticNetReg(X_train_imp,y_train_imp)\n",
    "pred=RegPredict(en,X_test_imp,y_test_imp)\n",
    "\n",
    "#Plotting Feature Importances \n",
    "feature_list = list(X_imp.columns)\n",
    "plot_feature_imp_EN(en,index=feature_list)"
   ]
  },
  {
   "cell_type": "markdown",
   "metadata": {},
   "source": [
    "### Support Vector Regression"
   ]
  },
  {
   "cell_type": "code",
   "execution_count": 58,
   "metadata": {},
   "outputs": [
    {
     "name": "stdout",
     "output_type": "stream",
     "text": [
      "Support Vector with RBF Kernel Regression Results - Without Imputation\n",
      "Mean Absolute Error: 1.2341401380141708\n",
      "Mean Squared Error: 58.34546894243914\n",
      "Root Mean Squared Error: 7.638420579048992\n",
      "R-squared: -0.007678970296597143\n"
     ]
    },
    {
     "name": "stderr",
     "output_type": "stream",
     "text": [
      "C:\\Users\\nisha\\Anaconda3\\lib\\site-packages\\sklearn\\utils\\validation.py:724: DataConversionWarning: A column-vector y was passed when a 1d array was expected. Please change the shape of y to (n_samples, ), for example using ravel().\n",
      "  y = column_or_1d(y, warn=True)\n",
      "C:\\Users\\nisha\\Anaconda3\\lib\\site-packages\\sklearn\\svm\\base.py:193: FutureWarning: The default value of gamma will change from 'auto' to 'scale' in version 0.22 to account better for unscaled features. Set gamma explicitly to 'auto' or 'scale' to avoid this warning.\n",
      "  \"avoid this warning.\", FutureWarning)\n"
     ]
    }
   ],
   "source": [
    "print(\"Support Vector with RBF Kernel Regression Results - Without Imputation\")\n",
    "svr=SVR_RBF(X_train,y_train)\n",
    "pred=RegPredict(svr,X_test,y_test)"
   ]
  },
  {
   "cell_type": "code",
   "execution_count": 59,
   "metadata": {},
   "outputs": [
    {
     "name": "stdout",
     "output_type": "stream",
     "text": [
      "Support Vector with RBF Kernel Regression Results - With Imputation\n"
     ]
    },
    {
     "name": "stderr",
     "output_type": "stream",
     "text": [
      "C:\\Users\\nisha\\Anaconda3\\lib\\site-packages\\sklearn\\utils\\validation.py:724: DataConversionWarning: A column-vector y was passed when a 1d array was expected. Please change the shape of y to (n_samples, ), for example using ravel().\n",
      "  y = column_or_1d(y, warn=True)\n",
      "C:\\Users\\nisha\\Anaconda3\\lib\\site-packages\\sklearn\\svm\\base.py:193: FutureWarning: The default value of gamma will change from 'auto' to 'scale' in version 0.22 to account better for unscaled features. Set gamma explicitly to 'auto' or 'scale' to avoid this warning.\n",
      "  \"avoid this warning.\", FutureWarning)\n"
     ]
    },
    {
     "name": "stdout",
     "output_type": "stream",
     "text": [
      "Mean Absolute Error: 10.243880800317847\n",
      "Mean Squared Error: 12877.983098989607\n",
      "Root Mean Squared Error: 113.48120152249714\n",
      "R-squared: -0.0058926499929046194\n"
     ]
    }
   ],
   "source": [
    "print(\"Support Vector with RBF Kernel Regression Results - With Imputation\")\n",
    "svr=SVR_RBF(X_train_imp,y_train_imp)\n",
    "pred=RegPredict(svr,X_test_imp,y_test_imp)"
   ]
  },
  {
   "cell_type": "code",
   "execution_count": 60,
   "metadata": {},
   "outputs": [
    {
     "name": "stdout",
     "output_type": "stream",
     "text": [
      "Linear Support Vector Regression Results - Without Imputation\n",
      "Mean Absolute Error: 123695.05841260999\n",
      "Mean Squared Error: 232336164632.45184\n",
      "Root Mean Squared Error: 482012.6187481525\n",
      "R-squared: -4012655503.9280977\n"
     ]
    },
    {
     "name": "stderr",
     "output_type": "stream",
     "text": [
      "C:\\Users\\nisha\\Anaconda3\\lib\\site-packages\\sklearn\\utils\\validation.py:724: DataConversionWarning: A column-vector y was passed when a 1d array was expected. Please change the shape of y to (n_samples, ), for example using ravel().\n",
      "  y = column_or_1d(y, warn=True)\n",
      "C:\\Users\\nisha\\Anaconda3\\lib\\site-packages\\sklearn\\svm\\base.py:929: ConvergenceWarning: Liblinear failed to converge, increase the number of iterations.\n",
      "  \"the number of iterations.\", ConvergenceWarning)\n"
     ]
    }
   ],
   "source": [
    "print(\"Linear Support Vector Regression Results - Without Imputation\")\n",
    "svr=SVR_Linear(X_train,y_train)\n",
    "pred=RegPredict(svr,X_test,y_test)"
   ]
  },
  {
   "cell_type": "code",
   "execution_count": 61,
   "metadata": {},
   "outputs": [
    {
     "name": "stdout",
     "output_type": "stream",
     "text": [
      "Linear Support Vector Regression Results - with Imputation\n"
     ]
    },
    {
     "name": "stderr",
     "output_type": "stream",
     "text": [
      "C:\\Users\\nisha\\Anaconda3\\lib\\site-packages\\sklearn\\utils\\validation.py:724: DataConversionWarning: A column-vector y was passed when a 1d array was expected. Please change the shape of y to (n_samples, ), for example using ravel().\n",
      "  y = column_or_1d(y, warn=True)\n"
     ]
    },
    {
     "name": "stdout",
     "output_type": "stream",
     "text": [
      "Mean Absolute Error: 219.2744987265357\n",
      "Mean Squared Error: 785699.7456597195\n",
      "Root Mean Squared Error: 886.3970586930665\n",
      "R-squared: -60.37060385817828\n"
     ]
    },
    {
     "name": "stderr",
     "output_type": "stream",
     "text": [
      "C:\\Users\\nisha\\Anaconda3\\lib\\site-packages\\sklearn\\svm\\base.py:929: ConvergenceWarning: Liblinear failed to converge, increase the number of iterations.\n",
      "  \"the number of iterations.\", ConvergenceWarning)\n"
     ]
    }
   ],
   "source": [
    "print(\"Linear Support Vector Regression Results - with Imputation\")\n",
    "svr=SVR_Linear(X_train_imp,y_train_imp)\n",
    "pred=RegPredict(svr,X_test_imp,y_test_imp)"
   ]
  },
  {
   "cell_type": "markdown",
   "metadata": {},
   "source": [
    "### XGBoost Regression"
   ]
  },
  {
   "cell_type": "code",
   "execution_count": 62,
   "metadata": {},
   "outputs": [
    {
     "name": "stdout",
     "output_type": "stream",
     "text": [
      "XGBoost Regression Results - Without Imputation\n",
      "Mean Absolute Error: 0.9828432967794084\n",
      "Mean Squared Error: 54.93623878069814\n",
      "Root Mean Squared Error: 7.411898459956001\n",
      "R-squared: 0.051201515217650484\n"
     ]
    },
    {
     "data": {
      "image/png": "[encoded data removed]",
      "text/plain": [
       "<Figure size 432x288 with 1 Axes>"
      ]
     },
     "metadata": {
      "needs_background": "light"
     },
     "output_type": "display_data"
    }
   ],
   "source": [
    "print(\"XGBoost Regression Results - Without Imputation\")\n",
    "xg=XGBoostReg(X_train,y_train,max_depth=50,objective ='reg:linear',n_estimators=400,learning_rate=0.1)\n",
    "pred=RegPredict(xg,X_test,y_test)\n",
    "\n",
    "xgb.plot_importance(xg)\n",
    "plt.rcParams['figure.figsize'] = [5, 5]\n",
    "plt.show()"
   ]
  },
  {
   "cell_type": "code",
   "execution_count": 63,
   "metadata": {},
   "outputs": [
    {
     "name": "stdout",
     "output_type": "stream",
     "text": [
      "XGBoost Regression Results - With Imputation\n",
      "Mean Absolute Error: 6.1148795140723236\n",
      "Mean Squared Error: 7622.375190112805\n",
      "Root Mean Squared Error: 87.30621507151027\n",
      "R-squared: 0.4046201862289829\n"
     ]
    },
    {
     "data": {
      "image/png": "[encoded data removed]",
      "text/plain": [
       "<Figure size 360x360 with 1 Axes>"
      ]
     },
     "metadata": {
      "needs_background": "light"
     },
     "output_type": "display_data"
    }
   ],
   "source": [
    "print(\"XGBoost Regression Results - With Imputation\")\n",
    "xg=XGBoostReg(X_train_imp,y_train_imp,max_depth=50,objective ='reg:linear',n_estimators=400,learning_rate=0.1)\n",
    "pred=RegPredict(xg,X_test_imp,y_test_imp)\n",
    "\n",
    "xgb.plot_importance(xg)\n",
    "plt.rcParams['figure.figsize'] = [5, 5]\n",
    "plt.show()"
   ]
  },
  {
   "cell_type": "markdown",
   "metadata": {},
   "source": [
    "### AdaBoosting"
   ]
  },
  {
   "cell_type": "code",
   "execution_count": 64,
   "metadata": {},
   "outputs": [
    {
     "name": "stdout",
     "output_type": "stream",
     "text": [
      "AdaBoosting Results--Without Imputation\n",
      "Mean Absolute Error: 1.3997120183858947\n",
      "Mean Squared Error: 55.79975032222143\n",
      "Root Mean Squared Error: 7.469923046606399\n",
      "R-squared: 0.03628789061622928\n"
     ]
    },
    {
     "name": "stderr",
     "output_type": "stream",
     "text": [
      "C:\\Users\\nisha\\Anaconda3\\lib\\site-packages\\sklearn\\utils\\validation.py:724: DataConversionWarning: A column-vector y was passed when a 1d array was expected. Please change the shape of y to (n_samples, ), for example using ravel().\n",
      "  y = column_or_1d(y, warn=True)\n"
     ]
    }
   ],
   "source": [
    "print(\"AdaBoosting Results--Without Imputation\")\n",
    "adb=AdaBoost(X_train,y_train,n_estimators=100,learning_rate=1)\n",
    "pred=RegPredict(adb,X_test,y_test)"
   ]
  },
  {
   "cell_type": "code",
   "execution_count": 65,
   "metadata": {},
   "outputs": [
    {
     "name": "stdout",
     "output_type": "stream",
     "text": [
      "AdaBoosting Results--With Imputation\n"
     ]
    },
    {
     "name": "stderr",
     "output_type": "stream",
     "text": [
      "C:\\Users\\nisha\\Anaconda3\\lib\\site-packages\\sklearn\\utils\\validation.py:724: DataConversionWarning: A column-vector y was passed when a 1d array was expected. Please change the shape of y to (n_samples, ), for example using ravel().\n",
      "  y = column_or_1d(y, warn=True)\n"
     ]
    },
    {
     "name": "stdout",
     "output_type": "stream",
     "text": [
      "Mean Absolute Error: 8.138004891948011\n",
      "Mean Squared Error: 7850.198410666492\n",
      "Root Mean Squared Error: 88.60134542243979\n",
      "R-squared: 0.386825031406125\n"
     ]
    }
   ],
   "source": [
    "print(\"AdaBoosting Results--With Imputation\")\n",
    "adb=AdaBoost(X_train_imp,y_train_imp,n_estimators=100,learning_rate=1)\n",
    "pred=RegPredict(adb,X_test_imp,y_test_imp)"
   ]
  },
  {
   "cell_type": "markdown",
   "metadata": {},
   "source": [
    "### Decision Tree Regression"
   ]
  },
  {
   "cell_type": "code",
   "execution_count": 66,
   "metadata": {},
   "outputs": [
    {
     "name": "stdout",
     "output_type": "stream",
     "text": [
      "Decision Tree Results --Without Imputation\n",
      "Mean Absolute Error: 1.12293729268889\n",
      "Mean Squared Error: 55.98798684936348\n",
      "Root Mean Squared Error: 7.482512068106772\n",
      "R-squared: 0.03303687569971803\n",
      "---------------------------------------\n",
      "Mean Absolute Error: 1.0781428164172815\n",
      "Mean Squared Error: 55.526012966515275\n",
      "Root Mean Squared Error: 7.451577884348742\n",
      "R-squared: 0.041015582101609493\n"
     ]
    }
   ],
   "source": [
    "print(\"Decision Tree Results --Without Imputation\")\n",
    "dt=DecisionTreeReg(X_train,y_train,max_depth=100)\n",
    "pred=RegPredict(dt,X_test,y_test)\n",
    "\n",
    "print(\"---------------------------------------\")\n",
    "dt=DecisionTreeReg(X_train,y_train,max_depth=200)\n",
    "pred=RegPredict(dt,X_test,y_test)"
   ]
  },
  {
   "cell_type": "code",
   "execution_count": 67,
   "metadata": {},
   "outputs": [
    {
     "name": "stdout",
     "output_type": "stream",
     "text": [
      "Decision Tree Results --With Imputation\n",
      "Mean Absolute Error: 4.71960924368717\n",
      "Mean Squared Error: 7168.959083777784\n",
      "Root Mean Squared Error: 84.66970582078211\n",
      "R-squared: 0.44003628557039154\n",
      "---------------------------------------\n",
      "Mean Absolute Error: 4.726443465098372\n",
      "Mean Squared Error: 7166.929834306594\n",
      "Root Mean Squared Error: 84.65772164608846\n",
      "R-squared: 0.4401947892050354\n"
     ]
    }
   ],
   "source": [
    "print(\"Decision Tree Results --With Imputation\")\n",
    "dt=DecisionTreeReg(X_train_imp,y_train_imp,max_depth=100)\n",
    "pred=RegPredict(dt,X_test_imp,y_test_imp)\n",
    "\n",
    "print(\"---------------------------------------\")\n",
    "dt=DecisionTreeReg(X_train_imp,y_train_imp,max_depth=200)\n",
    "pred=RegPredict(dt,X_test_imp,y_test_imp)"
   ]
  },
  {
   "cell_type": "markdown",
   "metadata": {},
   "source": [
    "### Orthogonal Matching Pursuit"
   ]
  },
  {
   "cell_type": "code",
   "execution_count": 68,
   "metadata": {},
   "outputs": [
    {
     "name": "stdout",
     "output_type": "stream",
     "text": [
      "Orthogonal Matching Pursuit Results--Without Imputation\n",
      "Mean Absolute Error: 1.4218469350578549\n",
      "Mean Squared Error: 56.493349216924805\n",
      "Root Mean Squared Error: 7.516205772657159\n",
      "R-squared: 0.024308810960479432\n"
     ]
    }
   ],
   "source": [
    "print(\"Orthogonal Matching Pursuit Results--Without Imputation\")\n",
    "omp=OrthogonalMatchReg(X_train,y_train)\n",
    "pred=RegPredict(omp,X_test,y_test)"
   ]
  },
  {
   "cell_type": "code",
   "execution_count": 69,
   "metadata": {},
   "outputs": [
    {
     "name": "stdout",
     "output_type": "stream",
     "text": [
      "Orthogonal Matching Pursuit Results--With Imputation\n",
      "Mean Absolute Error: 14.226404206777046\n",
      "Mean Squared Error: 12793.186050601429\n",
      "Root Mean Squared Error: 113.10696729468715\n",
      "R-squared: 0.0007308039330020666\n"
     ]
    }
   ],
   "source": [
    "print(\"Orthogonal Matching Pursuit Results--With Imputation\")\n",
    "omp=OrthogonalMatchReg(X_train_imp,y_train_imp)\n",
    "pred=RegPredict(omp,X_test_imp,y_test_imp)"
   ]
  },
  {
   "cell_type": "markdown",
   "metadata": {},
   "source": [
    "### Bayesian Ridge Regression"
   ]
  },
  {
   "cell_type": "code",
   "execution_count": 70,
   "metadata": {},
   "outputs": [
    {
     "name": "stdout",
     "output_type": "stream",
     "text": [
      "Bayesian Ridge Regression Results--Without Imputation\n",
      "Mean Absolute Error: 1.365084502935324\n",
      "Mean Squared Error: 51.84556558346588\n",
      "Root Mean Squared Error: 7.200386488478648\n",
      "R-squared: 0.1045802341029648\n"
     ]
    },
    {
     "name": "stderr",
     "output_type": "stream",
     "text": [
      "C:\\Users\\nisha\\Anaconda3\\lib\\site-packages\\sklearn\\utils\\validation.py:724: DataConversionWarning: A column-vector y was passed when a 1d array was expected. Please change the shape of y to (n_samples, ), for example using ravel().\n",
      "  y = column_or_1d(y, warn=True)\n"
     ]
    }
   ],
   "source": [
    "print(\"Bayesian Ridge Regression Results--Without Imputation\")\n",
    "br=BayesianRidgeReg(X_train,y_train)\n",
    "pred=RegPredict(br,X_test,y_test)"
   ]
  },
  {
   "cell_type": "code",
   "execution_count": 71,
   "metadata": {},
   "outputs": [
    {
     "name": "stdout",
     "output_type": "stream",
     "text": [
      "Bayesian Ridge Regression Results--With Imputation\n",
      "Mean Absolute Error: 13.902121333189038\n",
      "Mean Squared Error: 12796.164919197245\n",
      "Root Mean Squared Error: 113.12013489736142\n",
      "R-squared: 0.0004981260359436801\n"
     ]
    },
    {
     "name": "stderr",
     "output_type": "stream",
     "text": [
      "C:\\Users\\nisha\\Anaconda3\\lib\\site-packages\\sklearn\\utils\\validation.py:724: DataConversionWarning: A column-vector y was passed when a 1d array was expected. Please change the shape of y to (n_samples, ), for example using ravel().\n",
      "  y = column_or_1d(y, warn=True)\n"
     ]
    }
   ],
   "source": [
    "print(\"Bayesian Ridge Regression Results--With Imputation\")\n",
    "br=BayesianRidgeReg(X_train_imp,y_train_imp)\n",
    "pred=RegPredict(br,X_test_imp,y_test_imp)"
   ]
  },
  {
   "cell_type": "markdown",
   "metadata": {},
   "source": [
    "### Robust Linear Model Estimation using RANSAC"
   ]
  },
  {
   "cell_type": "code",
   "execution_count": 72,
   "metadata": {},
   "outputs": [
    {
     "name": "stdout",
     "output_type": "stream",
     "text": [
      "RANSAC Regression Results--Without Imputation\n",
      "Mean Absolute Error: 1.705052260756193\n",
      "Mean Squared Error: 58.92134867504873\n",
      "Root Mean Squared Error: 7.676024275303507\n",
      "R-squared: -0.01762493365055051\n"
     ]
    }
   ],
   "source": [
    "print(\"RANSAC Regression Results--Without Imputation\")\n",
    "ran=RansacReg(X_train,y_train)\n",
    "pred=RegPredict(ran,X_test,y_test)"
   ]
  },
  {
   "cell_type": "code",
   "execution_count": 73,
   "metadata": {},
   "outputs": [
    {
     "name": "stdout",
     "output_type": "stream",
     "text": [
      "RANSAC Regression Results--With Imputation\n",
      "Mean Absolute Error: 130.39035165913796\n",
      "Mean Squared Error: 448352.4963882772\n",
      "Root Mean Squared Error: 669.5912905558713\n",
      "R-squared: -34.02058336746248\n"
     ]
    }
   ],
   "source": [
    "print(\"RANSAC Regression Results--With Imputation\")\n",
    "ran=RansacReg(X_train_imp,y_train_imp)\n",
    "pred=RegPredict(ran,X_test_imp,y_test_imp)"
   ]
  },
  {
   "cell_type": "markdown",
   "metadata": {},
   "source": [
    "### RandomForest Regression"
   ]
  },
  {
   "cell_type": "code",
   "execution_count": 74,
   "metadata": {},
   "outputs": [
    {
     "name": "stdout",
     "output_type": "stream",
     "text": [
      "RandomForest Regression Results--Without Imputation\n"
     ]
    },
    {
     "name": "stderr",
     "output_type": "stream",
     "text": [
      "C:\\Users\\nisha\\Anaconda3\\lib\\site-packages\\ipykernel_launcher.py:4: DataConversionWarning: A column-vector y was passed when a 1d array was expected. Please change the shape of y to (n_samples,), for example using ravel().\n",
      "  after removing the cwd from sys.path.\n"
     ]
    },
    {
     "name": "stdout",
     "output_type": "stream",
     "text": [
      "Mean Absolute Error: 0.981809554922663\n",
      "Mean Squared Error: 54.84813491064189\n",
      "Root Mean Squared Error: 7.405952667323893\n",
      "R-squared: 0.052723148665228314\n",
      "-----------------------------------------\n"
     ]
    },
    {
     "name": "stderr",
     "output_type": "stream",
     "text": [
      "C:\\Users\\nisha\\Anaconda3\\lib\\site-packages\\ipykernel_launcher.py:4: DataConversionWarning: A column-vector y was passed when a 1d array was expected. Please change the shape of y to (n_samples,), for example using ravel().\n",
      "  after removing the cwd from sys.path.\n"
     ]
    },
    {
     "name": "stdout",
     "output_type": "stream",
     "text": [
      "Mean Absolute Error: 0.980083793237662\n",
      "Mean Squared Error: 54.88957898034099\n",
      "Root Mean Squared Error: 7.40875016317469\n",
      "R-squared: 0.05200737213216966\n"
     ]
    }
   ],
   "source": [
    "print(\"RandomForest Regression Results--Without Imputation\")\n",
    "rf=RandomForestReg(X_train,y_train,n_estimators = 1000, random_state = 42)\n",
    "pred=RegPredict(rf,X_test,y_test)\n",
    "print(\"-----------------------------------------\")\n",
    "rf=RandomForestReg(X_train,y_train,n_estimators = 500, random_state = 42)\n",
    "pred=RegPredict(rf,X_test,y_test)"
   ]
  },
  {
   "cell_type": "code",
   "execution_count": 75,
   "metadata": {},
   "outputs": [
    {
     "name": "stdout",
     "output_type": "stream",
     "text": [
      "RandomForest Regression Results--With Imputation\n"
     ]
    },
    {
     "name": "stderr",
     "output_type": "stream",
     "text": [
      "C:\\Users\\nisha\\Anaconda3\\lib\\site-packages\\ipykernel_launcher.py:4: DataConversionWarning: A column-vector y was passed when a 1d array was expected. Please change the shape of y to (n_samples,), for example using ravel().\n",
      "  after removing the cwd from sys.path.\n"
     ]
    },
    {
     "name": "stdout",
     "output_type": "stream",
     "text": [
      "Mean Absolute Error: 6.962282813741998\n",
      "Mean Squared Error: 8216.802519336221\n",
      "Root Mean Squared Error: 90.64658029587338\n",
      "R-squared: 0.3581897726444472\n",
      "-----------------------------------------\n"
     ]
    },
    {
     "name": "stderr",
     "output_type": "stream",
     "text": [
      "C:\\Users\\nisha\\Anaconda3\\lib\\site-packages\\ipykernel_launcher.py:4: DataConversionWarning: A column-vector y was passed when a 1d array was expected. Please change the shape of y to (n_samples,), for example using ravel().\n",
      "  after removing the cwd from sys.path.\n"
     ]
    },
    {
     "name": "stdout",
     "output_type": "stream",
     "text": [
      "Mean Absolute Error: 7.043573785659771\n",
      "Mean Squared Error: 8293.660307802564\n",
      "Root Mean Squared Error: 91.06953556377985\n",
      "R-squared: 0.35218645023605943\n"
     ]
    }
   ],
   "source": [
    "print(\"RandomForest Regression Results--With Imputation\")\n",
    "rf=RandomForestReg(X_train_imp,y_train_imp,n_estimators = 1000, random_state = 42)\n",
    "pred=RegPredict(rf,X_test_imp,y_test_imp)\n",
    "print(\"-----------------------------------------\")\n",
    "rf=RandomForestReg(X_train_imp,y_train_imp,n_estimators = 500, random_state = 42)\n",
    "pred=RegPredict(rf,X_test_imp,y_test_imp)"
   ]
  },
  {
   "cell_type": "markdown",
   "metadata": {},
   "source": [
    "### Gradient Boosting Regression"
   ]
  },
  {
   "cell_type": "code",
   "execution_count": 76,
   "metadata": {},
   "outputs": [
    {
     "name": "stdout",
     "output_type": "stream",
     "text": [
      "Gradient Boosting Regression Results--Without Imputation\n",
      "Mean Absolute Error: 1.096889617401853\n",
      "Mean Squared Error: 55.94156015150328\n",
      "Root Mean Squared Error: 7.479409077694793\n",
      "R-squared: 0.03383870672348088\n",
      "------------------------------------------\n"
     ]
    },
    {
     "name": "stderr",
     "output_type": "stream",
     "text": [
      "C:\\Users\\nisha\\Anaconda3\\lib\\site-packages\\sklearn\\ensemble\\gradient_boosting.py:1450: DataConversionWarning: A column-vector y was passed when a 1d array was expected. Please change the shape of y to (n_samples, ), for example using ravel().\n",
      "  y = column_or_1d(y, warn=True)\n",
      "C:\\Users\\nisha\\Anaconda3\\lib\\site-packages\\sklearn\\ensemble\\gradient_boosting.py:1450: DataConversionWarning: A column-vector y was passed when a 1d array was expected. Please change the shape of y to (n_samples, ), for example using ravel().\n",
      "  y = column_or_1d(y, warn=True)\n"
     ]
    },
    {
     "name": "stdout",
     "output_type": "stream",
     "text": [
      "Mean Absolute Error: 1.1090552710433992\n",
      "Mean Squared Error: 56.029568834398006\n",
      "Root Mean Squared Error: 7.485290163674218\n",
      "R-squared: 0.03231871724419488\n"
     ]
    }
   ],
   "source": [
    "print(\"Gradient Boosting Regression Results--Without Imputation\")\n",
    "gb=GradientBoostReg(X_train,y_train,n_estimators=1000,max_depth=30,learning_rate=1,criterion='mse')\n",
    "pred=RegPredict(gb,X_test,y_test)\n",
    "print(\"------------------------------------------\")\n",
    "gb=GradientBoostReg(X_train,y_train,n_estimators=500,max_depth=50,learning_rate=1,criterion='mse')\n",
    "pred=RegPredict(gb,X_test,y_test)"
   ]
  },
  {
   "cell_type": "code",
   "execution_count": 77,
   "metadata": {},
   "outputs": [
    {
     "name": "stdout",
     "output_type": "stream",
     "text": [
      "Gradient Boosting Regression Results--With Imputation\n"
     ]
    },
    {
     "name": "stderr",
     "output_type": "stream",
     "text": [
      "C:\\Users\\nisha\\Anaconda3\\lib\\site-packages\\sklearn\\ensemble\\gradient_boosting.py:1450: DataConversionWarning: A column-vector y was passed when a 1d array was expected. Please change the shape of y to (n_samples, ), for example using ravel().\n",
      "  y = column_or_1d(y, warn=True)\n"
     ]
    },
    {
     "name": "stdout",
     "output_type": "stream",
     "text": [
      "Mean Absolute Error: 4.45822438196421\n",
      "Mean Squared Error: 7148.578667419664\n",
      "Root Mean Squared Error: 84.5492676929828\n",
      "R-squared: 0.44162818943148896\n",
      "------------------------------------------\n",
      "Mean Absolute Error: 4.824407455195024\n",
      "Mean Squared Error: 8202.053855027221\n",
      "Root Mean Squared Error: 90.56519118859752\n",
      "R-squared: 0.35934178324359145\n"
     ]
    },
    {
     "name": "stderr",
     "output_type": "stream",
     "text": [
      "C:\\Users\\nisha\\Anaconda3\\lib\\site-packages\\sklearn\\ensemble\\gradient_boosting.py:1450: DataConversionWarning: A column-vector y was passed when a 1d array was expected. Please change the shape of y to (n_samples, ), for example using ravel().\n",
      "  y = column_or_1d(y, warn=True)\n"
     ]
    }
   ],
   "source": [
    "print(\"Gradient Boosting Regression Results--With Imputation\")\n",
    "gb=GradientBoostReg(X_train_imp,y_train_imp,n_estimators=1000,max_depth=30,learning_rate=1,criterion='mse')\n",
    "pred=RegPredict(gb,X_test_imp,y_test_imp)\n",
    "print(\"------------------------------------------\")\n",
    "gb=GradientBoostReg(X_train_imp,y_train_imp,n_estimators=500,max_depth=50,learning_rate=1,criterion='mse')\n",
    "pred=RegPredict(gb,X_test_imp,y_test_imp)"
   ]
  },
  {
   "cell_type": "markdown",
   "metadata": {},
   "source": [
    "### Stepwise Regression"
   ]
  },
  {
   "cell_type": "code",
   "execution_count": 78,
   "metadata": {},
   "outputs": [
    {
     "name": "stderr",
     "output_type": "stream",
     "text": [
      "C:\\Users\\nisha\\Anaconda3\\lib\\site-packages\\numpy\\core\\fromnumeric.py:2389: FutureWarning: Method .ptp is deprecated and will be removed in a future version. Use numpy.ptp instead.\n",
      "  return ptp(axis=axis, out=out, **kwargs)\n",
      "C:\\Users\\nisha\\Anaconda3\\lib\\site-packages\\ipykernel_launcher.py:19: FutureWarning: \n",
      "The current behaviour of 'Series.argmin' is deprecated, use 'idxmin'\n",
      "instead.\n",
      "The behavior of 'argmin' will be corrected to return the positional\n",
      "minimum in the future. For now, use 'series.values.argmin' or\n",
      "'np.argmin(np.array(values))' to get the position of the minimum\n",
      "row.\n"
     ]
    },
    {
     "name": "stdout",
     "output_type": "stream",
     "text": [
      "Add  emp                            with p-value 2.83788e-10\n",
      "Add  sgna                           with p-value 6.3252e-18\n",
      "Add  ppe                            with p-value 9.95731e-20\n",
      "Add  liabilities                    with p-value 5.01377e-11\n",
      "Add  age                            with p-value 3.81748e-05\n",
      "Add  R1                             with p-value 0.00318298\n",
      "Resulting features from Stepwise Selection without Imputation:\n",
      "['emp', 'sgna', 'ppe', 'liabilities', 'age', 'R1']\n"
     ]
    }
   ],
   "source": [
    "result = stepwise_selection(X_train, y_train)\n",
    "print('Resulting features from Stepwise Selection without Imputation:')\n",
    "print(result) "
   ]
  },
  {
   "cell_type": "code",
   "execution_count": 79,
   "metadata": {},
   "outputs": [
    {
     "name": "stdout",
     "output_type": "stream",
     "text": [
      "Resulting features from Stepwise Selection with Imputation:\n",
      "[]\n"
     ]
    }
   ],
   "source": [
    "result = stepwise_selection(X_train_imp, y_train_imp)\n",
    "print('Resulting features from Stepwise Selection with Imputation:')\n",
    "print(result) "
   ]
  },
  {
   "cell_type": "markdown",
   "metadata": {},
   "source": [
    "### Studying the individual effect of Control variables on Model 2"
   ]
  },
  {
   "cell_type": "markdown",
   "metadata": {},
   "source": [
    "#### Data with missing values removed"
   ]
  },
  {
   "cell_type": "code",
   "execution_count": 80,
   "metadata": {},
   "outputs": [
    {
     "data": {
      "image/png": "[encoded data removed]",
      "text/plain": [
       "<Figure size 360x360 with 1 Axes>"
      ]
     },
     "metadata": {
      "needs_background": "light"
     },
     "output_type": "display_data"
    },
    {
     "name": "stdout",
     "output_type": "stream",
     "text": [
      "Ridge Regression metrcis for Control variables- current_assets\n",
      "Mean Absolute Error: 1.3974872523672854\n",
      "Mean Squared Error: 57.54803085508371\n",
      "Root Mean Squared Error: 7.5860418437472195\n",
      "R-squared: 0.006093506046584873\n",
      "----------------------------------------------------------------------\n"
     ]
    },
    {
     "data": {
      "image/png": "[encoded data removed]",
      "text/plain": [
       "<Figure size 360x360 with 1 Axes>"
      ]
     },
     "metadata": {
      "needs_background": "light"
     },
     "output_type": "display_data"
    },
    {
     "name": "stdout",
     "output_type": "stream",
     "text": [
      "Ridge Regression metrcis for Control variables- age\n",
      "Mean Absolute Error: 1.3560014647207501\n",
      "Mean Squared Error: 57.90528508144042\n",
      "Root Mean Squared Error: 7.609552226080088\n",
      "R-squared: -7.659726176956205e-05\n",
      "----------------------------------------------------------------------\n"
     ]
    },
    {
     "data": {
      "image/png": "[encoded data removed]",
      "text/plain": [
       "<Figure size 360x360 with 1 Axes>"
      ]
     },
     "metadata": {
      "needs_background": "light"
     },
     "output_type": "display_data"
    },
    {
     "name": "stdout",
     "output_type": "stream",
     "text": [
      "Ridge Regression metrcis for Control variables- ppe\n",
      "Mean Absolute Error: 1.39356552725618\n",
      "Mean Squared Error: 53.69890882339742\n",
      "Root Mean Squared Error: 7.327953931582637\n",
      "R-squared: 0.07257132164632085\n",
      "----------------------------------------------------------------------\n"
     ]
    },
    {
     "data": {
      "image/png": "[encoded data removed]",
      "text/plain": [
       "<Figure size 360x360 with 1 Axes>"
      ]
     },
     "metadata": {
      "needs_background": "light"
     },
     "output_type": "display_data"
    },
    {
     "name": "stdout",
     "output_type": "stream",
     "text": [
      "Ridge Regression metrcis for Control variables- emp\n",
      "Mean Absolute Error: 1.4885425982448262\n",
      "Mean Squared Error: 54.03734401886206\n",
      "Root Mean Squared Error: 7.351009727844336\n",
      "R-squared: 0.0667262400065729\n",
      "----------------------------------------------------------------------\n"
     ]
    },
    {
     "data": {
      "image/png": "[encoded data removed]",
      "text/plain": [
       "<Figure size 360x360 with 1 Axes>"
      ]
     },
     "metadata": {
      "needs_background": "light"
     },
     "output_type": "display_data"
    },
    {
     "name": "stdout",
     "output_type": "stream",
     "text": [
      "Ridge Regression metrcis for Control variables- operating_expenses\n",
      "Mean Absolute Error: 1.3948357530285986\n",
      "Mean Squared Error: 57.67530847551063\n",
      "Root Mean Squared Error: 7.594426145240378\n",
      "R-squared: 0.0038953065322381297\n",
      "----------------------------------------------------------------------\n"
     ]
    },
    {
     "data": {
      "image/png": "[encoded data removed]",
      "text/plain": [
       "<Figure size 360x360 with 1 Axes>"
      ]
     },
     "metadata": {
      "needs_background": "light"
     },
     "output_type": "display_data"
    },
    {
     "name": "stdout",
     "output_type": "stream",
     "text": [
      "Ridge Regression metrcis for Control variables- liabilities\n",
      "Mean Absolute Error: 1.3850689928031756\n",
      "Mean Squared Error: 56.767296028192945\n",
      "Root Mean Squared Error: 7.534407476915019\n",
      "R-squared: 0.019577501988277013\n",
      "----------------------------------------------------------------------\n"
     ]
    },
    {
     "data": {
      "image/png": "[encoded data removed]",
      "text/plain": [
       "<Figure size 360x360 with 1 Axes>"
      ]
     },
     "metadata": {
      "needs_background": "light"
     },
     "output_type": "display_data"
    },
    {
     "name": "stdout",
     "output_type": "stream",
     "text": [
      "Ridge Regression metrcis for Control variables- book_value\n",
      "Mean Absolute Error: 1.349285607969642\n",
      "Mean Squared Error: 57.92296019570027\n",
      "Root Mean Squared Error: 7.610713514231124\n",
      "R-squared: -0.00038186245648108574\n",
      "----------------------------------------------------------------------\n"
     ]
    },
    {
     "data": {
      "image/png": "[encoded data removed]",
      "text/plain": [
       "<Figure size 360x360 with 1 Axes>"
      ]
     },
     "metadata": {
      "needs_background": "light"
     },
     "output_type": "display_data"
    },
    {
     "name": "stdout",
     "output_type": "stream",
     "text": [
      "Ridge Regression metrcis for Control variables- R1\n",
      "Mean Absolute Error: 1.35773154159907\n",
      "Mean Squared Error: 57.82313797887251\n",
      "Root Mean Squared Error: 7.604152679876471\n",
      "R-squared: 0.001342157428678603\n",
      "----------------------------------------------------------------------\n"
     ]
    }
   ],
   "source": [
    "for i in range(len(CV)):\n",
    "    X = df[IV+[CV[i]]]\n",
    "    y = df['growth_in_profit'].values.reshape(-1,1)\n",
    "    X_train, X_test, y_train, y_test = train_test_split(X, y, test_size=0.2, random_state=0)\n",
    "    ridge=RidgeReg(X_train,y_train)\n",
    "    \n",
    "    #Plotting Feature Importances after adding CV individually\n",
    "    feature_list = list(X.columns)\n",
    "    plot_feature_imp(ridge,index=feature_list)\n",
    "    \n",
    "    print('Ridge Regression metrcis for Control variables-',CV[i])\n",
    "    pred=RegPredict(ridge,X_test,y_test)\n",
    "    print(\"----------------------------------------------------------------------\")"
   ]
  },
  {
   "cell_type": "markdown",
   "metadata": {},
   "source": [
    "#### Imputed Data"
   ]
  },
  {
   "cell_type": "code",
   "execution_count": 81,
   "metadata": {},
   "outputs": [
    {
     "data": {
      "image/png": "[encoded data removed]",
      "text/plain": [
       "<Figure size 360x360 with 1 Axes>"
      ]
     },
     "metadata": {
      "needs_background": "light"
     },
     "output_type": "display_data"
    },
    {
     "name": "stdout",
     "output_type": "stream",
     "text": [
      "Ridge Regression metrcis for Control variables- current_assets\n",
      "Mean Absolute Error: 14.229619986573656\n",
      "Mean Squared Error: 12795.401407180962\n",
      "Root Mean Squared Error: 113.11676006313547\n",
      "R-squared: 0.0005577635676485837\n",
      "----------------------------------------------------------------------\n"
     ]
    },
    {
     "data": {
      "image/png": "[encoded data removed]",
      "text/plain": [
       "<Figure size 360x360 with 1 Axes>"
      ]
     },
     "metadata": {
      "needs_background": "light"
     },
     "output_type": "display_data"
    },
    {
     "name": "stdout",
     "output_type": "stream",
     "text": [
      "Ridge Regression metrcis for Control variables- age\n",
      "Mean Absolute Error: 14.361662019749621\n",
      "Mean Squared Error: 12782.766283693865\n",
      "Root Mean Squared Error: 113.06089635101017\n",
      "R-squared: 0.0015446865780087693\n",
      "----------------------------------------------------------------------\n"
     ]
    },
    {
     "data": {
      "image/png": "[encoded data removed]",
      "text/plain": [
       "<Figure size 360x360 with 1 Axes>"
      ]
     },
     "metadata": {
      "needs_background": "light"
     },
     "output_type": "display_data"
    },
    {
     "name": "stdout",
     "output_type": "stream",
     "text": [
      "Ridge Regression metrcis for Control variables- ppe\n",
      "Mean Absolute Error: 14.177360924912898\n",
      "Mean Squared Error: 12795.957428827618\n",
      "Root Mean Squared Error: 113.11921776969473\n",
      "R-squared: 0.0005143330022168158\n",
      "----------------------------------------------------------------------\n"
     ]
    },
    {
     "data": {
      "image/png": "[encoded data removed]",
      "text/plain": [
       "<Figure size 360x360 with 1 Axes>"
      ]
     },
     "metadata": {
      "needs_background": "light"
     },
     "output_type": "display_data"
    },
    {
     "name": "stdout",
     "output_type": "stream",
     "text": [
      "Ridge Regression metrcis for Control variables- emp\n",
      "Mean Absolute Error: 14.254190703814764\n",
      "Mean Squared Error: 12795.711125358615\n",
      "Root Mean Squared Error: 113.11812907469172\n",
      "R-squared: 0.0005335716397607548\n",
      "----------------------------------------------------------------------\n"
     ]
    },
    {
     "data": {
      "image/png": "[encoded data removed]",
      "text/plain": [
       "<Figure size 360x360 with 1 Axes>"
      ]
     },
     "metadata": {
      "needs_background": "light"
     },
     "output_type": "display_data"
    },
    {
     "name": "stdout",
     "output_type": "stream",
     "text": [
      "Ridge Regression metrcis for Control variables- operating_expenses\n",
      "Mean Absolute Error: 14.226300153621105\n",
      "Mean Squared Error: 12795.538837261496\n",
      "Root Mean Squared Error: 113.1173675315223\n",
      "R-squared: 0.0005470289745965751\n",
      "----------------------------------------------------------------------\n"
     ]
    },
    {
     "data": {
      "image/png": "[encoded data removed]",
      "text/plain": [
       "<Figure size 360x360 with 1 Axes>"
      ]
     },
     "metadata": {
      "needs_background": "light"
     },
     "output_type": "display_data"
    },
    {
     "name": "stdout",
     "output_type": "stream",
     "text": [
      "Ridge Regression metrcis for Control variables- liabilities\n",
      "Mean Absolute Error: 14.191710323740542\n",
      "Mean Squared Error: 12784.131840200667\n",
      "Root Mean Squared Error: 113.06693522069423\n",
      "R-squared: 0.0014380236601602148\n",
      "----------------------------------------------------------------------\n"
     ]
    },
    {
     "data": {
      "image/png": "[encoded data removed]",
      "text/plain": [
       "<Figure size 360x360 with 1 Axes>"
      ]
     },
     "metadata": {
      "needs_background": "light"
     },
     "output_type": "display_data"
    },
    {
     "name": "stdout",
     "output_type": "stream",
     "text": [
      "Ridge Regression metrcis for Control variables- book_value\n",
      "Mean Absolute Error: 14.261893879635467\n",
      "Mean Squared Error: 12794.694989957554\n",
      "Root Mean Squared Error: 113.11363750652507\n",
      "R-squared: 0.0006129414543869505\n",
      "----------------------------------------------------------------------\n"
     ]
    },
    {
     "data": {
      "image/png": "[encoded data removed]",
      "text/plain": [
       "<Figure size 360x360 with 1 Axes>"
      ]
     },
     "metadata": {
      "needs_background": "light"
     },
     "output_type": "display_data"
    },
    {
     "name": "stdout",
     "output_type": "stream",
     "text": [
      "Ridge Regression metrcis for Control variables- R1\n",
      "Mean Absolute Error: 14.237171308168348\n",
      "Mean Squared Error: 12795.553871821307\n",
      "Root Mean Squared Error: 113.11743398707958\n",
      "R-squared: 0.0005458546328465097\n",
      "----------------------------------------------------------------------\n"
     ]
    }
   ],
   "source": [
    "for i in range(len(CV)):\n",
    "    X = df_imp[IV+[CV[i]]]\n",
    "    y = df_imp['growth_in_profit'].values.reshape(-1,1)\n",
    "    X_train, X_test, y_train, y_test = train_test_split(X, y, test_size=0.2, random_state=0)\n",
    "    ridge=RidgeReg(X_train,y_train)\n",
    "    \n",
    "    #Plotting Feature Importances after adding CV individually\n",
    "    feature_list = list(X.columns)\n",
    "    plot_feature_imp(ridge,index=feature_list)\n",
    "    \n",
    "    print('Ridge Regression metrcis for Control variables-',CV[i])\n",
    "    pred=RegPredict(ridge,X_test,y_test)\n",
    "    print(\"----------------------------------------------------------------------\")"
   ]
  },
  {
   "cell_type": "markdown",
   "metadata": {},
   "source": [
    "### Studying the effect of Control Variables which have positive Feature Importances when added individually\n",
    "\n",
    "#### Adding current_assets, ppe, emp, operating_expenses, liabilities, R1"
   ]
  },
  {
   "cell_type": "markdown",
   "metadata": {},
   "source": [
    "#### Data with no missing values"
   ]
  },
  {
   "cell_type": "code",
   "execution_count": 82,
   "metadata": {},
   "outputs": [
    {
     "data": {
      "image/png": "[encoded data removed]",
      "text/plain": [
       "<Figure size 360x360 with 1 Axes>"
      ]
     },
     "metadata": {
      "needs_background": "light"
     },
     "output_type": "display_data"
    },
    {
     "name": "stdout",
     "output_type": "stream",
     "text": [
      "Mean Absolute Error: 1.4088783583143214\n",
      "Mean Squared Error: 51.65139220399184\n",
      "Root Mean Squared Error: 7.186890301374569\n",
      "R-squared: 0.10793378382385976\n"
     ]
    }
   ],
   "source": [
    "X = df[['sgna','SQ_SGNA','current_assets','ppe','emp','operating_expenses','liabilities','R1']]\n",
    "y = df[DV].values.reshape(-1,1)\n",
    "\n",
    "X_train, X_test, y_train, y_test = train_test_split(X, y, test_size=0.2, random_state=0)\n",
    "\n",
    "ridge=RidgeReg(X_train,y_train)\n",
    "#Plotting Feature Importances after adding CV individually\n",
    "feature_list = list(X.columns)\n",
    "plot_feature_imp(ridge,index=feature_list)\n",
    "pred=RegPredict(ridge,X_test,y_test)"
   ]
  },
  {
   "cell_type": "markdown",
   "metadata": {},
   "source": [
    "#### Imputed Data"
   ]
  },
  {
   "cell_type": "code",
   "execution_count": 83,
   "metadata": {},
   "outputs": [
    {
     "data": {
      "image/png": "[encoded data removed]",
      "text/plain": [
       "<Figure size 360x360 with 1 Axes>"
      ]
     },
     "metadata": {
      "needs_background": "light"
     },
     "output_type": "display_data"
    },
    {
     "name": "stdout",
     "output_type": "stream",
     "text": [
      "Mean Absolute Error: 14.16339456975888\n",
      "Mean Squared Error: 12781.880675019593\n",
      "Root Mean Squared Error: 113.05697977135065\n",
      "R-squared: 0.0016138610170007839\n"
     ]
    }
   ],
   "source": [
    "X = df_imp[['sgna','SQ_SGNA','current_assets','ppe','emp','operating_expenses','liabilities','R1']]\n",
    "y = df_imp[DV].values.reshape(-1,1)\n",
    "\n",
    "X_train, X_test, y_train, y_test = train_test_split(X, y, test_size=0.2, random_state=0)\n",
    "\n",
    "ridge=RidgeReg(X_train,y_train)\n",
    "#Plotting Feature Importances after adding CV individually\n",
    "feature_list = list(X.columns)\n",
    "plot_feature_imp(ridge,index=feature_list)\n",
    "pred=RegPredict(ridge,X_test,y_test)"
   ]
  },
  {
   "cell_type": "markdown",
   "metadata": {},
   "source": [
    "### Studying the effect of Control Variables which have negative Feature Importances when added individually\n",
    "\n",
    "#### Adding book_value,age"
   ]
  },
  {
   "cell_type": "markdown",
   "metadata": {},
   "source": [
    "#### Data with no missing Values"
   ]
  },
  {
   "cell_type": "code",
   "execution_count": 84,
   "metadata": {},
   "outputs": [
    {
     "data": {
      "image/png": "[encoded data removed]",
      "text/plain": [
       "<Figure size 360x360 with 1 Axes>"
      ]
     },
     "metadata": {
      "needs_background": "light"
     },
     "output_type": "display_data"
    },
    {
     "name": "stdout",
     "output_type": "stream",
     "text": [
      "Mean Absolute Error: 1.3563176627460125\n",
      "Mean Squared Error: 57.914894627735165\n",
      "Root Mean Squared Error: 7.610183613273412\n",
      "R-squared: -0.00024256280958034893\n"
     ]
    }
   ],
   "source": [
    "X = df[['sgna','SQ_SGNA','age','book_value']]\n",
    "y = df[DV].values.reshape(-1,1)\n",
    "\n",
    "X_train, X_test, y_train, y_test = train_test_split(X, y, test_size=0.2, random_state=0)\n",
    "\n",
    "ridge=RidgeReg(X_train,y_train)\n",
    "#Plotting Feature Importances after adding CV individually\n",
    "feature_list = list(X.columns)\n",
    "plot_feature_imp(ridge,index=feature_list)\n",
    "pred=RegPredict(ridge,X_test,y_test)"
   ]
  },
  {
   "cell_type": "markdown",
   "metadata": {},
   "source": [
    "#### Imputed Data"
   ]
  },
  {
   "cell_type": "code",
   "execution_count": 85,
   "metadata": {},
   "outputs": [
    {
     "data": {
      "image/png": "[encoded data removed]",
      "text/plain": [
       "<Figure size 360x360 with 1 Axes>"
      ]
     },
     "metadata": {
      "needs_background": "light"
     },
     "output_type": "display_data"
    },
    {
     "name": "stdout",
     "output_type": "stream",
     "text": [
      "Mean Absolute Error: 14.371259272508109\n",
      "Mean Squared Error: 12781.765641200223\n",
      "Root Mean Squared Error: 113.0564710275366\n",
      "R-squared: 0.0016228462495884166\n"
     ]
    }
   ],
   "source": [
    "X = df_imp[['sgna','SQ_SGNA','age','book_value']]\n",
    "y = df_imp[DV].values.reshape(-1,1)\n",
    "\n",
    "X_train, X_test, y_train, y_test = train_test_split(X, y, test_size=0.2, random_state=0)\n",
    "\n",
    "ridge=RidgeReg(X_train,y_train)\n",
    "#Plotting Feature Importances after adding CV individually\n",
    "feature_list = list(X.columns)\n",
    "plot_feature_imp(ridge,index=feature_list)\n",
    "pred=RegPredict(ridge,X_test,y_test)"
   ]
  },
  {
   "cell_type": "code",
   "execution_count": null,
   "metadata": {},
   "outputs": [],
   "source": []
  }
 ],
 "metadata": {
  "kernelspec": {
   "display_name": "Python 3",
   "language": "python",
   "name": "python3"
  },
  "language_info": {
   "codemirror_mode": {
    "name": "ipython",
    "version": 3
   },
   "file_extension": ".py",
   "mimetype": "text/x-python",
   "name": "python",
   "nbconvert_exporter": "python",
   "pygments_lexer": "ipython3",
   "version": "3.6.8"
  }
 },
 "nbformat": 4,
 "nbformat_minor": 2
}
